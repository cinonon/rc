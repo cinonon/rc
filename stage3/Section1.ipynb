{
 "cells": [
  {
   "cell_type": "markdown",
   "id": "returning-trout",
   "metadata": {},
   "source": [
    "Section1：入力層～中間層"
   ]
  },
  {
   "cell_type": "code",
   "execution_count": 1,
   "id": "abroad-candidate",
   "metadata": {},
   "outputs": [
    {
     "data": {
      "text/plain": [
       "array([1.9])"
      ]
     },
     "execution_count": 1,
     "metadata": {},
     "output_type": "execute_result"
    }
   ],
   "source": [
    "import numpy as np\n",
    "\n",
    "# 入力層2つ、中間層1つで考える\n",
    "\n",
    "x = np.array([4, 5])\n",
    "W = np.array([[0.1], [0.2]])\n",
    "b = 0.5\n",
    "\n",
    "u = np.dot(x, W) + b\n",
    "u"
   ]
  },
  {
   "cell_type": "code",
   "execution_count": 2,
   "id": "induced-consultation",
   "metadata": {},
   "outputs": [
    {
     "data": {
      "text/plain": [
       "1.9"
      ]
     },
     "execution_count": 2,
     "metadata": {},
     "output_type": "execute_result"
    }
   ],
   "source": [
    "(4 * 0.1 + 5 * 0.2) + 0.5"
   ]
  },
  {
   "cell_type": "code",
   "execution_count": 7,
   "id": "muslim-change",
   "metadata": {},
   "outputs": [
    {
     "data": {
      "text/plain": [
       "array([1.9, 3.1])"
      ]
     },
     "execution_count": 7,
     "metadata": {},
     "output_type": "execute_result"
    }
   ],
   "source": [
    "\n",
    "# 入力層2つ、中間層2つで考える\n",
    "\n",
    "x = np.array([4, 5])\n",
    "W = np.array([[0.1, 0.3], [0.2, 0.3]])\n",
    "b = np.array([0.5, 0.4])\n",
    "\n",
    "u = np.dot(x, W) + b\n",
    "# 上の中間層への入力は最初と同じ1.9\n",
    "u"
   ]
  },
  {
   "cell_type": "code",
   "execution_count": 8,
   "id": "driving-array",
   "metadata": {},
   "outputs": [
    {
     "name": "stdout",
     "output_type": "stream",
     "text": [
      "[[0.1 0.3]\n",
      " [0.2 0.3]]\n"
     ]
    }
   ],
   "source": [
    "# 1行目が、入力1を各中間層へ伝えるときの重み\n",
    "print(W)"
   ]
  },
  {
   "cell_type": "code",
   "execution_count": null,
   "id": "collaborative-comedy",
   "metadata": {},
   "outputs": [],
   "source": []
  }
 ],
 "metadata": {
  "kernelspec": {
   "display_name": "Python 3",
   "language": "python",
   "name": "python3"
  },
  "language_info": {
   "codemirror_mode": {
    "name": "ipython",
    "version": 3
   },
   "file_extension": ".py",
   "mimetype": "text/x-python",
   "name": "python",
   "nbconvert_exporter": "python",
   "pygments_lexer": "ipython3",
   "version": "3.7.7"
  }
 },
 "nbformat": 4,
 "nbformat_minor": 5
}
