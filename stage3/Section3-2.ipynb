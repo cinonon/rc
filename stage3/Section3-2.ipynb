{
 "cells": [
  {
   "cell_type": "markdown",
   "id": "acting-disposition",
   "metadata": {},
   "source": [
    "ソフトマックス関数 ①~③の数式に該当するソースコードを示し、一行づつ処理の説明をせよ。"
   ]
  },
  {
   "cell_type": "code",
   "execution_count": 1,
   "id": "descending-nerve",
   "metadata": {},
   "outputs": [],
   "source": [
    "# ①は関数宣言と同義\n",
    "def softmax(x):\n",
    "    if x.ndim == 2: # 変数xの次元数が2なら行列計算\n",
    "        x = x.T # 転置、行でまとまっているデータを列方向へ変換し、一気に計算するため\n",
    "        x = x - np.max(x, axis=0) # オーバーフロー対策で列方向の最大値を引く(元の行方向)\n",
    "        y = np.exp(x) / np.sum(np.exp(x), axis=0) # ②/③\n",
    "        return y.T # 転置を戻す\n",
    "    x = x - np.max(x) # オーバーフロー対策\n",
    "    return np.exp(x) / np.sum(np.exp(x)) # ②/③"
   ]
  },
  {
   "cell_type": "code",
   "execution_count": 2,
   "id": "present-airplane",
   "metadata": {},
   "outputs": [
    {
     "data": {
      "text/plain": [
       "array([0.33333333, 0.33333333, 0.33333333])"
      ]
     },
     "execution_count": 2,
     "metadata": {},
     "output_type": "execute_result"
    }
   ],
   "source": [
    "import numpy as np\n",
    "\n",
    "# 1次元\n",
    "x = np.array([1, 1, 1])\n",
    "y = softmax(x)\n",
    "y"
   ]
  },
  {
   "cell_type": "code",
   "execution_count": 3,
   "id": "accepting-footage",
   "metadata": {},
   "outputs": [
    {
     "data": {
      "text/plain": [
       "array([[0.33333333, 0.33333333, 0.33333333],\n",
       "       [0.09003057, 0.24472847, 0.66524096]])"
      ]
     },
     "execution_count": 3,
     "metadata": {},
     "output_type": "execute_result"
    }
   ],
   "source": [
    "# 2次元\n",
    "x = np.array([[1, 1, 1], [1, 2, 3]])\n",
    "y = softmax(x)\n",
    "y"
   ]
  },
  {
   "cell_type": "code",
   "execution_count": 4,
   "id": "alert-philosophy",
   "metadata": {},
   "outputs": [
    {
     "data": {
      "text/plain": [
       "array([[ 2.71828183,  2.71828183],\n",
       "       [ 2.71828183,  7.3890561 ],\n",
       "       [ 2.71828183, 20.08553692]])"
      ]
     },
     "execution_count": 4,
     "metadata": {},
     "output_type": "execute_result"
    }
   ],
   "source": [
    "np.exp(x.T)"
   ]
  },
  {
   "cell_type": "code",
   "execution_count": 5,
   "id": "acute-times",
   "metadata": {},
   "outputs": [
    {
     "data": {
      "text/plain": [
       "array([ 8.15484549, 30.19287485])"
      ]
     },
     "execution_count": 5,
     "metadata": {},
     "output_type": "execute_result"
    }
   ],
   "source": [
    "np.sum(np.exp(x.T), axis=0)"
   ]
  },
  {
   "cell_type": "markdown",
   "id": "cathedral-bruce",
   "metadata": {},
   "source": [
    "交差エントロピー ①~③の数式に該当するソースコードを示し、一行づつ処理の説明をせよ。"
   ]
  },
  {
   "cell_type": "code",
   "execution_count": 9,
   "id": "upper-florist",
   "metadata": {},
   "outputs": [],
   "source": [
    "# 2つの分布が似ていると交差エントロピー誤差が小さくなる\n",
    "def cross_entropy_error(d, y):\n",
    "    if y.ndim == 1:\n",
    "        print(d)\n",
    "        d = d.reshape(1, d.size) # []で囲う\n",
    "        print(d)\n",
    "        y = y.reshape(1, y.size) # []で囲う\n",
    "    if d.size == y.size:\n",
    "        # 正解ラベルが1つとすると、計算するのは最大箇所の1つで良い\n",
    "        # 配列で、一番大きい要素のインデックスを返す\n",
    "        # 推定値が0.8でも関係なく、最大値なら1とみなす\n",
    "        d = d.argmax(axis=1)\n",
    "    batch_size = y.shape[0] # データ数(バッチサイズ)\n",
    "    # 1e-7を足すことで、log計算が-∞にならないように\n",
    "    return -np.sum(np.log(y[np.arange(batch_size), d] + 1e-7)) / batch_size"
   ]
  },
  {
   "cell_type": "code",
   "execution_count": 10,
   "id": "together-click",
   "metadata": {},
   "outputs": [
    {
     "name": "stdout",
     "output_type": "stream",
     "text": [
      "[0.8 0.1 0.1]\n",
      "[[0.8 0.1 0.1]]\n"
     ]
    },
    {
     "data": {
      "text/plain": [
       "-9.999999505838704e-08"
      ]
     },
     "execution_count": 10,
     "metadata": {},
     "output_type": "execute_result"
    }
   ],
   "source": [
    "\n",
    "# 1次元\n",
    "z = np.array([0.8, 0.1, 0.1]) #誤差算出用ダミー\n",
    "y = np.array([1, 0, 0]) # 正解\n",
    "e = cross_entropy_error(z, y)\n",
    "e"
   ]
  },
  {
   "cell_type": "code",
   "execution_count": 11,
   "id": "innovative-bouquet",
   "metadata": {},
   "outputs": [
    {
     "data": {
      "text/plain": [
       "-9.999999505838704e-08"
      ]
     },
     "execution_count": 11,
     "metadata": {},
     "output_type": "execute_result"
    }
   ],
   "source": [
    "\n",
    "# 2次元\n",
    "z = np.array([[0.8, 0.1, 0.1], [0.7, 0.2, 0.1]]) #誤差算出用ダミー\n",
    "y = np.array([[1, 0, 0], [1, 0, 0]]) # 正解\n",
    "e = cross_entropy_error(z, y)\n",
    "e"
   ]
  },
  {
   "cell_type": "code",
   "execution_count": null,
   "id": "eleven-programmer",
   "metadata": {},
   "outputs": [],
   "source": []
  }
 ],
 "metadata": {
  "kernelspec": {
   "display_name": "Python 3",
   "language": "python",
   "name": "python3"
  },
  "language_info": {
   "codemirror_mode": {
    "name": "ipython",
    "version": 3
   },
   "file_extension": ".py",
   "mimetype": "text/x-python",
   "name": "python",
   "nbconvert_exporter": "python",
   "pygments_lexer": "ipython3",
   "version": "3.7.7"
  }
 },
 "nbformat": 4,
 "nbformat_minor": 5
}
