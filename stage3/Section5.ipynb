{
 "cells": [
  {
   "cell_type": "markdown",
   "id": "effective-strength",
   "metadata": {},
   "source": [
    "Section5：誤差逆伝播法"
   ]
  },
  {
   "cell_type": "code",
   "execution_count": 7,
   "id": "right-appliance",
   "metadata": {},
   "outputs": [],
   "source": [
    "import numpy as np\n",
    "import matplotlib.pyplot as plt\n",
    "\n",
    "def f(x):\n",
    "    y = 3 * x[0] + 2 * x[1]\n",
    "    return y\n",
    "\n",
    "# シグモイド関数（ロジスティック関数）\n",
    "def sigmoid(x):\n",
    "    return 1/(1 + np.exp(-x))\n",
    "\n",
    "# ReLU関数\n",
    "def relu(x):\n",
    "    return np.maximum(0, x)\n",
    "\n",
    "# 平均二乗誤差\n",
    "def mean_squared_error(d, y):\n",
    "    return np.mean(np.square(d - y)) / 2\n",
    "\n",
    "# 平均二乗誤差の微分\n",
    "def d_mean_squared_error(d, y):\n",
    "    if type(d) == np.ndarray:\n",
    "        batch_size = d.shape[0]\n",
    "        dx = (y - d)/batch_size\n",
    "    else:\n",
    "        dx = y - d\n",
    "    return dx\n",
    "\n",
    "# シグモイド関数の微分\n",
    "def d_sigmoid(x):\n",
    "    dx = (1.0 - sigmoid(x)) * sigmoid(x)\n",
    "    return dx\n",
    "\n",
    "# 初期設定\n",
    "def init_network():\n",
    "    # print(\"##### ネットワークの初期化 #####\")\n",
    "    network = {}\n",
    "    nodesNum = 10\n",
    "    network['W1'] = np.random.randn(2, nodesNum)\n",
    "    network['W2'] = np.random.randn(nodesNum)\n",
    "    network['b1'] = np.random.randn(nodesNum)\n",
    "    network['b2'] = np.random.randn()\n",
    "\n",
    "    return network\n",
    "\n",
    "# 順伝播\n",
    "def forward(network, x):\n",
    "    # print(\"##### 順伝播開始 #####\")\n",
    "    \n",
    "    W1, W2 = network['W1'], network['W2']\n",
    "    b1, b2 = network['b1'], network['b2']\n",
    "    u1 = np.dot(x, W1) + b1\n",
    "    z1 = relu(u1)\n",
    "    \n",
    "    u2 = np.dot(z1, W2) + b2\n",
    "    y = u2\n",
    "\n",
    "    \n",
    "    return z1, y\n",
    "\n",
    "# 誤差逆伝播\n",
    "def backward(x, d, z1, y):\n",
    "    # print(\"\\n##### 誤差逆伝播開始 #####\")    \n",
    "\n",
    "    grad = {}\n",
    "    \n",
    "    W1, W2 = network['W1'], network['W2']\n",
    "    b1, b2 = network['b1'], network['b2']\n",
    "\n",
    "    # 出力層でのデルタ\n",
    "    delta2 = d_mean_squared_error(d, y)\n",
    "    # b2の勾配\n",
    "    grad['b2'] = np.sum(delta2, axis=0)\n",
    "    # W2の勾配\n",
    "    grad['W2'] = np.dot(z1.T, delta2)\n",
    "\n",
    "    ## 試してみよう\n",
    "    delta1 = np.dot(delta2, W2.T) * d_sigmoid(z1)\n",
    "\n",
    "    delta1 = delta1[np.newaxis, :]\n",
    "    # b1の勾配\n",
    "    grad['b1'] = np.sum(delta1, axis=0)\n",
    "    x = x[np.newaxis, :]\n",
    "    # W1の勾配\n",
    "    grad['W1'] = np.dot(x.T, delta1)\n",
    "    \n",
    "    return grad"
   ]
  },
  {
   "cell_type": "code",
   "execution_count": 11,
   "id": "serial-organizer",
   "metadata": {},
   "outputs": [],
   "source": [
    "\n",
    "# サンプルデータを作成\n",
    "data_sets_size = 100000\n",
    "data_sets = [0 for i in range(data_sets_size)]\n",
    "\n",
    "for i in range(data_sets_size):\n",
    "    data_sets[i] = {}\n",
    "    # ランダムな値を設定\n",
    "    data_sets[i]['x'] = np.random.rand(2)\n",
    "    \n",
    "    # 目標出力を設定\n",
    "    data_sets[i]['d'] = f(data_sets[i]['x'])\n",
    "    \n",
    "losses = []\n",
    "# 学習率\n",
    "learning_rate = 0.07\n",
    "\n",
    "# 抽出数\n",
    "epoch = 1000\n",
    "\n",
    "# パラメータの初期化\n",
    "network = init_network()\n",
    "# データのランダム抽出\n",
    "random_datasets = np.random.choice(data_sets, epoch)\n"
   ]
  },
  {
   "cell_type": "code",
   "execution_count": 12,
   "id": "minus-absence",
   "metadata": {},
   "outputs": [
    {
     "name": "stdout",
     "output_type": "stream",
     "text": [
      "##### 結果表示 #####\n"
     ]
    },
    {
     "data": {
      "text/plain": [
       "[<matplotlib.lines.Line2D at 0x171520a4608>]"
      ]
     },
     "execution_count": 12,
     "metadata": {},
     "output_type": "execute_result"
    },
    {
     "data": {
      "image/png": "[encoded data removed]",
      "text/plain": [
       "<Figure size 432x288 with 1 Axes>"
      ]
     },
     "metadata": {
      "needs_background": "light"
     },
     "output_type": "display_data"
    }
   ],
   "source": [
    "\n",
    "# 勾配降下の繰り返し\n",
    "for dataset in random_datasets:\n",
    "    x, d = dataset['x'], dataset['d']\n",
    "    # 順伝播\n",
    "    z1, y = forward(network, x)\n",
    "    #逆誤差伝播\n",
    "    grad = backward(x, d, z1, y)\n",
    "    # パラメータに勾配適用\n",
    "    for key in ('W1', 'W2', 'b1', 'b2'):\n",
    "        network[key]  -= learning_rate * grad[key]\n",
    "\n",
    "    # 誤差\n",
    "    loss = mean_squared_error(d, y)\n",
    "    losses.append(loss)\n",
    "\n",
    "print(\"##### 結果表示 #####\")    \n",
    "lists = range(epoch)\n",
    "\n",
    "\n",
    "plt.plot(lists, losses, '.')"
   ]
  },
  {
   "cell_type": "code",
   "execution_count": null,
   "id": "current-regression",
   "metadata": {},
   "outputs": [],
   "source": []
  }
 ],
 "metadata": {
  "kernelspec": {
   "display_name": "Python 3",
   "language": "python",
   "name": "python3"
  },
  "language_info": {
   "codemirror_mode": {
    "name": "ipython",
    "version": 3
   },
   "file_extension": ".py",
   "mimetype": "text/x-python",
   "name": "python",
   "nbconvert_exporter": "python",
   "pygments_lexer": "ipython3",
   "version": "3.7.7"
  }
 },
 "nbformat": 4,
 "nbformat_minor": 5
}
