{
 "cells": [
  {
   "cell_type": "markdown",
   "id": "warming-crash",
   "metadata": {},
   "source": [
    "誤差逆伝播法では不要な再帰的処理を避ける事が出来る。既に行った計算結果を保持しているソースコードを抽出せよ。"
   ]
  },
  {
   "cell_type": "markdown",
   "id": "rising-spine",
   "metadata": {},
   "source": [
    "\n",
    "delta2 = functions.d_mean_squared_error(d, y)\n",
    "\n",
    "delta1 = np.dot(delta2, W2.T) * functions.d_sigmoid(z1)\n",
    "\n",
    "delta1 = delta1[np.newaxis, :]"
   ]
  },
  {
   "cell_type": "markdown",
   "id": "surface-discrimination",
   "metadata": {},
   "source": [
    "後ろ側で微分した値を保持し、再利用"
   ]
  },
  {
   "cell_type": "markdown",
   "id": "aging-vegetarian",
   "metadata": {},
   "source": [
    "----------------------------------------------------"
   ]
  },
  {
   "cell_type": "markdown",
   "id": "emerging-cigarette",
   "metadata": {},
   "source": [
    "確認テスト\n",
    "\n",
    "dE/dy"
   ]
  },
  {
   "cell_type": "markdown",
   "id": "productive-offense",
   "metadata": {},
   "source": [
    "delta2 = functions.d_mean_squared_error(d, y)"
   ]
  },
  {
   "cell_type": "markdown",
   "id": "cooked-mattress",
   "metadata": {},
   "source": [
    "(dE/dy)*(dy/du)"
   ]
  },
  {
   "cell_type": "markdown",
   "id": "plastic-purse",
   "metadata": {},
   "source": [
    "delta1 = np.dot(delta2, W2.T) * functions.d_sigmoid(z1)"
   ]
  },
  {
   "cell_type": "markdown",
   "id": "medium-celebrity",
   "metadata": {},
   "source": [
    "(dE/dy)*(dy/du)*(du/wω)"
   ]
  },
  {
   "cell_type": "markdown",
   "id": "removable-providence",
   "metadata": {},
   "source": [
    "grad['W1'] = np.dot(x.T, delta1)"
   ]
  },
  {
   "cell_type": "code",
   "execution_count": null,
   "id": "prepared-exploration",
   "metadata": {},
   "outputs": [],
   "source": []
  }
 ],
 "metadata": {
  "kernelspec": {
   "display_name": "Python 3",
   "language": "python",
   "name": "python3"
  },
  "language_info": {
   "codemirror_mode": {
    "name": "ipython",
    "version": 3
   },
   "file_extension": ".py",
   "mimetype": "text/x-python",
   "name": "python",
   "nbconvert_exporter": "python",
   "pygments_lexer": "ipython3",
   "version": "3.7.7"
  }
 },
 "nbformat": 4,
 "nbformat_minor": 5
}
