{
 "cells": [
  {
   "cell_type": "markdown",
   "id": "experienced-indie",
   "metadata": {},
   "source": [
    "Section4：勾配降下法"
   ]
  },
  {
   "cell_type": "code",
   "execution_count": 3,
   "id": "color-jones",
   "metadata": {},
   "outputs": [],
   "source": [
    "import numpy as np\n",
    "import matplotlib.pyplot as plt"
   ]
  },
  {
   "cell_type": "code",
   "execution_count": 8,
   "id": "prescription-pizza",
   "metadata": {},
   "outputs": [],
   "source": [
    "\n",
    "def f(x):\n",
    "    y = 3 * x[0] + 2 * x[1]\n",
    "    return y\n",
    "\n",
    "def relu(x):\n",
    "    return np.maximum(0, x)\n",
    "\n",
    "def sigmoid(x):\n",
    "    a = 10\n",
    "    return 1 / (1 + np.exp(-a * x))\n",
    "\n",
    "def d_mean_squared_error(d, y):\n",
    "    if type(d) == np.ndarray:\n",
    "        batch_size = d.shape[0]\n",
    "        dx = (y - d)/batch_size\n",
    "    else:\n",
    "        dx = y - d\n",
    "    return dx\n",
    "\n",
    "def mean_squared_error(d, y):\n",
    "    return np.mean(np.square(d - y)) / 2\n",
    "\n",
    "# 初期設定\n",
    "def init_network():\n",
    "    network = {}\n",
    "    nodesNum = 10\n",
    "    network['W1'] = np.random.randn(2, nodesNum)\n",
    "    network['W2'] = np.random.randn(nodesNum)\n",
    "    network['b1'] = np.random.randn(nodesNum)\n",
    "    network['b2'] = np.random.randn()\n",
    "    return network\n",
    "\n",
    "# 順伝播\n",
    "def forward(network, x):\n",
    "    \n",
    "    W1, W2 = network['W1'], network['W2']\n",
    "    b1, b2 = network['b1'], network['b2']\n",
    "    u1 = np.dot(x, W1) + b1\n",
    "    z1 = relu(u1)\n",
    "    \n",
    "    u2 = np.dot(z1, W2) + b2\n",
    "    y = u2\n",
    "\n",
    "    return z1, y\n",
    "\n",
    "# 誤差逆伝播\n",
    "def backward(x, d, z1, y):\n",
    "    grad = {}\n",
    "    \n",
    "    W1, W2 = network['W1'], network['W2']\n",
    "    b1, b2 = network['b1'], network['b2']\n",
    "    \n",
    "    delta2 = d_mean_squared_error(d, y) # 出力層でのデルタ\n",
    "    grad['b2'] = np.sum(delta2, axis=0) # b2の勾配\n",
    "    grad['W2'] = np.dot(z1.T, delta2) # W2の勾配\n",
    "\n",
    "    delta1 = np.dot(delta2, W2.T) * sigmoid(z1)\n",
    "    delta1 = delta1[np.newaxis, :]\n",
    "    grad['b1'] = np.sum(delta1, axis=0) # b1の勾配\n",
    "    x = x[np.newaxis, :]\n",
    "    grad['W1'] = np.dot(x.T, delta1) # W1の勾配\n",
    "    \n",
    "    return grad\n",
    "    "
   ]
  },
  {
   "cell_type": "code",
   "execution_count": 9,
   "id": "intensive-guess",
   "metadata": {},
   "outputs": [],
   "source": [
    "\n",
    "# サンプルデータを作成\n",
    "data_sets_size = 100000\n",
    "data_sets = [0 for i in range(data_sets_size)]\n",
    "\n",
    "for i in range(data_sets_size):\n",
    "    data_sets[i] = {}\n",
    "    # ランダムな値を設定\n",
    "    data_sets[i]['x'] = np.random.rand(2)\n",
    "    \n",
    "    ## 試してみよう_入力値の設定\n",
    "    # data_sets[i]['x'] = np.random.rand(2) * 10 -5 # -5〜5のランダム数値\n",
    "    \n",
    "    # 目標出力を設定\n",
    "    data_sets[i]['d'] = f(data_sets[i]['x'])"
   ]
  },
  {
   "cell_type": "code",
   "execution_count": 12,
   "id": "mighty-rogers",
   "metadata": {},
   "outputs": [],
   "source": [
    "\n",
    "losses = []\n",
    "# 学習率\n",
    "learning_rate = 0.1\n",
    "\n",
    "# 抽出数\n",
    "epoch = 1000\n",
    "\n",
    "# パラメータの初期化\n",
    "network = init_network()\n",
    "# データのランダム抽出\n",
    "random_datasets = np.random.choice(data_sets, epoch)\n"
   ]
  },
  {
   "cell_type": "code",
   "execution_count": 13,
   "id": "informative-laundry",
   "metadata": {},
   "outputs": [
    {
     "name": "stdout",
     "output_type": "stream",
     "text": [
      "##### 結果表示 #####\n"
     ]
    },
    {
     "data": {
      "text/plain": [
       "[<matplotlib.lines.Line2D at 0x206fc5d42c8>]"
      ]
     },
     "execution_count": 13,
     "metadata": {},
     "output_type": "execute_result"
    },
    {
     "data": {
      "image/png": "[encoded data removed]",
      "text/plain": [
       "<Figure size 432x288 with 1 Axes>"
      ]
     },
     "metadata": {
      "needs_background": "light"
     },
     "output_type": "display_data"
    }
   ],
   "source": [
    "\n",
    "# 勾配降下の繰り返し\n",
    "for dataset in random_datasets:\n",
    "    x, d = dataset['x'], dataset['d']\n",
    "    z1, y = forward(network, x)\n",
    "    grad = backward(x, d, z1, y)\n",
    "    # パラメータに勾配適用\n",
    "    for key in ('W1', 'W2', 'b1', 'b2'):\n",
    "        network[key]  -= learning_rate * grad[key]\n",
    "\n",
    "    # 誤差\n",
    "    loss = mean_squared_error(d, y)\n",
    "    losses.append(loss)\n",
    "\n",
    "print(\"##### 結果表示 #####\")    \n",
    "lists = range(epoch)\n",
    "\n",
    "# エポックを重ねるごとに誤差が減っていく\n",
    "plt.plot(lists, losses, '.')"
   ]
  },
  {
   "cell_type": "code",
   "execution_count": null,
   "id": "removable-setting",
   "metadata": {},
   "outputs": [],
   "source": []
  }
 ],
 "metadata": {
  "kernelspec": {
   "display_name": "Python 3",
   "language": "python",
   "name": "python3"
  },
  "language_info": {
   "codemirror_mode": {
    "name": "ipython",
    "version": 3
   },
   "file_extension": ".py",
   "mimetype": "text/x-python",
   "name": "python",
   "nbconvert_exporter": "python",
   "pygments_lexer": "ipython3",
   "version": "3.7.7"
  }
 },
 "nbformat": 4,
 "nbformat_minor": 5
}
