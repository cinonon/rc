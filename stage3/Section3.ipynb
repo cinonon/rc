{
 "cells": [
  {
   "cell_type": "markdown",
   "id": "pediatric-ordinance",
   "metadata": {},
   "source": [
    "Section3：出力層"
   ]
  },
  {
   "cell_type": "code",
   "execution_count": 1,
   "id": "hungry-cartridge",
   "metadata": {},
   "outputs": [
    {
     "data": {
      "text/plain": [
       "(-0.1, 10.1)"
      ]
     },
     "execution_count": 1,
     "metadata": {},
     "output_type": "execute_result"
    },
    {
     "data": {
      "image/png": "[encoded data removed]",
      "text/plain": [
       "<Figure size 432x288 with 1 Axes>"
      ]
     },
     "metadata": {
      "needs_background": "light"
     },
     "output_type": "display_data"
    }
   ],
   "source": [
    "import numpy as np\n",
    "import matplotlib.pylab as plt\n",
    "\n",
    "x = np.arange(0, 10, 1)\n",
    "\n",
    "z = np.arange(0, 10, 1) #誤差算出用ダミー\n",
    "y = np.array([5]*10) # 正解\n",
    "\n",
    "plt.plot(x, y)\n",
    "plt.plot(x, z)\n",
    "plt.ylim(-0.1, 10.1)"
   ]
  },
  {
   "cell_type": "code",
   "execution_count": 2,
   "id": "agreed-hybrid",
   "metadata": {},
   "outputs": [
    {
     "data": {
      "text/plain": [
       "42.5"
      ]
     },
     "execution_count": 2,
     "metadata": {},
     "output_type": "execute_result"
    }
   ],
   "source": [
    "# 2乗誤差\n",
    "def mean_squared_error(y,t):\n",
    "    return 0.5 * np.sum((y-t)**2)\n",
    "\n",
    "e = mean_squared_error(y, z)\n",
    "e"
   ]
  },
  {
   "cell_type": "code",
   "execution_count": null,
   "id": "legal-conclusion",
   "metadata": {},
   "outputs": [],
   "source": []
  }
 ],
 "metadata": {
  "kernelspec": {
   "display_name": "Python 3",
   "language": "python",
   "name": "python3"
  },
  "language_info": {
   "codemirror_mode": {
    "name": "ipython",
    "version": 3
   },
   "file_extension": ".py",
   "mimetype": "text/x-python",
   "name": "python",
   "nbconvert_exporter": "python",
   "pygments_lexer": "ipython3",
   "version": "3.7.7"
  }
 },
 "nbformat": 4,
 "nbformat_minor": 5
}
