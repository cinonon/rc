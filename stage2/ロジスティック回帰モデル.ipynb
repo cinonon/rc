{
 "cells": [
  {
   "cell_type": "markdown",
   "id": "static-share",
   "metadata": {},
   "source": [
    "タイタニックデータを用いたデータ処理"
   ]
  },
  {
   "cell_type": "code",
   "execution_count": 2,
   "id": "innocent-chemistry",
   "metadata": {},
   "outputs": [
    {
     "data": {
      "text/html": [
       "<div>\n",
       "<style scoped>\n",
       "    .dataframe tbody tr th:only-of-type {\n",
       "        vertical-align: middle;\n",
       "    }\n",
       "\n",
       "    .dataframe tbody tr th {\n",
       "        vertical-align: top;\n",
       "    }\n",
       "\n",
       "    .dataframe thead th {\n",
       "        text-align: right;\n",
       "    }\n",
       "</style>\n",
       "<table border=\"1\" class=\"dataframe\">\n",
       "  <thead>\n",
       "    <tr style=\"text-align: right;\">\n",
       "      <th></th>\n",
       "      <th>PassengerId</th>\n",
       "      <th>Survived</th>\n",
       "      <th>Pclass</th>\n",
       "      <th>Name</th>\n",
       "      <th>Sex</th>\n",
       "      <th>Age</th>\n",
       "      <th>SibSp</th>\n",
       "      <th>Parch</th>\n",
       "      <th>Ticket</th>\n",
       "      <th>Fare</th>\n",
       "      <th>Cabin</th>\n",
       "      <th>Embarked</th>\n",
       "    </tr>\n",
       "  </thead>\n",
       "  <tbody>\n",
       "    <tr>\n",
       "      <th>0</th>\n",
       "      <td>1</td>\n",
       "      <td>0</td>\n",
       "      <td>3</td>\n",
       "      <td>Braund, Mr. Owen Harris</td>\n",
       "      <td>male</td>\n",
       "      <td>22.0</td>\n",
       "      <td>1</td>\n",
       "      <td>0</td>\n",
       "      <td>A/5 21171</td>\n",
       "      <td>7.2500</td>\n",
       "      <td>NaN</td>\n",
       "      <td>S</td>\n",
       "    </tr>\n",
       "    <tr>\n",
       "      <th>1</th>\n",
       "      <td>2</td>\n",
       "      <td>1</td>\n",
       "      <td>1</td>\n",
       "      <td>Cumings, Mrs. John Bradley (Florence Briggs Th...</td>\n",
       "      <td>female</td>\n",
       "      <td>38.0</td>\n",
       "      <td>1</td>\n",
       "      <td>0</td>\n",
       "      <td>PC 17599</td>\n",
       "      <td>71.2833</td>\n",
       "      <td>C85</td>\n",
       "      <td>C</td>\n",
       "    </tr>\n",
       "    <tr>\n",
       "      <th>2</th>\n",
       "      <td>3</td>\n",
       "      <td>1</td>\n",
       "      <td>3</td>\n",
       "      <td>Heikkinen, Miss. Laina</td>\n",
       "      <td>female</td>\n",
       "      <td>26.0</td>\n",
       "      <td>0</td>\n",
       "      <td>0</td>\n",
       "      <td>STON/O2. 3101282</td>\n",
       "      <td>7.9250</td>\n",
       "      <td>NaN</td>\n",
       "      <td>S</td>\n",
       "    </tr>\n",
       "    <tr>\n",
       "      <th>3</th>\n",
       "      <td>4</td>\n",
       "      <td>1</td>\n",
       "      <td>1</td>\n",
       "      <td>Futrelle, Mrs. Jacques Heath (Lily May Peel)</td>\n",
       "      <td>female</td>\n",
       "      <td>35.0</td>\n",
       "      <td>1</td>\n",
       "      <td>0</td>\n",
       "      <td>113803</td>\n",
       "      <td>53.1000</td>\n",
       "      <td>C123</td>\n",
       "      <td>S</td>\n",
       "    </tr>\n",
       "    <tr>\n",
       "      <th>4</th>\n",
       "      <td>5</td>\n",
       "      <td>0</td>\n",
       "      <td>3</td>\n",
       "      <td>Allen, Mr. William Henry</td>\n",
       "      <td>male</td>\n",
       "      <td>35.0</td>\n",
       "      <td>0</td>\n",
       "      <td>0</td>\n",
       "      <td>373450</td>\n",
       "      <td>8.0500</td>\n",
       "      <td>NaN</td>\n",
       "      <td>S</td>\n",
       "    </tr>\n",
       "  </tbody>\n",
       "</table>\n",
       "</div>"
      ],
      "text/plain": [
       "   PassengerId  Survived  Pclass  \\\n",
       "0            1         0       3   \n",
       "1            2         1       1   \n",
       "2            3         1       3   \n",
       "3            4         1       1   \n",
       "4            5         0       3   \n",
       "\n",
       "                                                Name     Sex   Age  SibSp  \\\n",
       "0                            Braund, Mr. Owen Harris    male  22.0      1   \n",
       "1  Cumings, Mrs. John Bradley (Florence Briggs Th...  female  38.0      1   \n",
       "2                             Heikkinen, Miss. Laina  female  26.0      0   \n",
       "3       Futrelle, Mrs. Jacques Heath (Lily May Peel)  female  35.0      1   \n",
       "4                           Allen, Mr. William Henry    male  35.0      0   \n",
       "\n",
       "   Parch            Ticket     Fare Cabin Embarked  \n",
       "0      0         A/5 21171   7.2500   NaN        S  \n",
       "1      0          PC 17599  71.2833   C85        C  \n",
       "2      0  STON/O2. 3101282   7.9250   NaN        S  \n",
       "3      0            113803  53.1000  C123        S  \n",
       "4      0            373450   8.0500   NaN        S  "
      ]
     },
     "execution_count": 2,
     "metadata": {},
     "output_type": "execute_result"
    }
   ],
   "source": [
    "#from モジュール名 import クラス名（もしくは関数名や変数名）\n",
    "import pandas as pd\n",
    "from pandas import DataFrame\n",
    "import numpy as np\n",
    "import matplotlib.pyplot as plt\n",
    "import seaborn as sns\n",
    "\n",
    "# titanic data csvファイルの読み込み\n",
    "titanic_df = pd.read_csv(\"./titanic_train.csv\")\n",
    "titanic_df.head()"
   ]
  },
  {
   "cell_type": "code",
   "execution_count": 3,
   "id": "worth-giant",
   "metadata": {},
   "outputs": [
    {
     "data": {
      "text/plain": [
       "Index(['PassengerId', 'Survived', 'Pclass', 'Name', 'Sex', 'Age', 'SibSp',\n",
       "       'Parch', 'Ticket', 'Fare', 'Cabin', 'Embarked'],\n",
       "      dtype='object')"
      ]
     },
     "execution_count": 3,
     "metadata": {},
     "output_type": "execute_result"
    }
   ],
   "source": [
    "titanic_df.columns"
   ]
  },
  {
   "cell_type": "code",
   "execution_count": 4,
   "id": "characteristic-environment",
   "metadata": {},
   "outputs": [
    {
     "data": {
      "text/html": [
       "<div>\n",
       "<style scoped>\n",
       "    .dataframe tbody tr th:only-of-type {\n",
       "        vertical-align: middle;\n",
       "    }\n",
       "\n",
       "    .dataframe tbody tr th {\n",
       "        vertical-align: top;\n",
       "    }\n",
       "\n",
       "    .dataframe thead th {\n",
       "        text-align: right;\n",
       "    }\n",
       "</style>\n",
       "<table border=\"1\" class=\"dataframe\">\n",
       "  <thead>\n",
       "    <tr style=\"text-align: right;\">\n",
       "      <th></th>\n",
       "      <th>Survived</th>\n",
       "      <th>Pclass</th>\n",
       "      <th>Sex</th>\n",
       "      <th>Age</th>\n",
       "      <th>SibSp</th>\n",
       "      <th>Parch</th>\n",
       "      <th>Fare</th>\n",
       "      <th>Embarked</th>\n",
       "    </tr>\n",
       "  </thead>\n",
       "  <tbody>\n",
       "    <tr>\n",
       "      <th>0</th>\n",
       "      <td>0</td>\n",
       "      <td>3</td>\n",
       "      <td>male</td>\n",
       "      <td>22.0</td>\n",
       "      <td>1</td>\n",
       "      <td>0</td>\n",
       "      <td>7.2500</td>\n",
       "      <td>S</td>\n",
       "    </tr>\n",
       "    <tr>\n",
       "      <th>1</th>\n",
       "      <td>1</td>\n",
       "      <td>1</td>\n",
       "      <td>female</td>\n",
       "      <td>38.0</td>\n",
       "      <td>1</td>\n",
       "      <td>0</td>\n",
       "      <td>71.2833</td>\n",
       "      <td>C</td>\n",
       "    </tr>\n",
       "    <tr>\n",
       "      <th>2</th>\n",
       "      <td>1</td>\n",
       "      <td>3</td>\n",
       "      <td>female</td>\n",
       "      <td>26.0</td>\n",
       "      <td>0</td>\n",
       "      <td>0</td>\n",
       "      <td>7.9250</td>\n",
       "      <td>S</td>\n",
       "    </tr>\n",
       "    <tr>\n",
       "      <th>3</th>\n",
       "      <td>1</td>\n",
       "      <td>1</td>\n",
       "      <td>female</td>\n",
       "      <td>35.0</td>\n",
       "      <td>1</td>\n",
       "      <td>0</td>\n",
       "      <td>53.1000</td>\n",
       "      <td>S</td>\n",
       "    </tr>\n",
       "    <tr>\n",
       "      <th>4</th>\n",
       "      <td>0</td>\n",
       "      <td>3</td>\n",
       "      <td>male</td>\n",
       "      <td>35.0</td>\n",
       "      <td>0</td>\n",
       "      <td>0</td>\n",
       "      <td>8.0500</td>\n",
       "      <td>S</td>\n",
       "    </tr>\n",
       "  </tbody>\n",
       "</table>\n",
       "</div>"
      ],
      "text/plain": [
       "   Survived  Pclass     Sex   Age  SibSp  Parch     Fare Embarked\n",
       "0         0       3    male  22.0      1      0   7.2500        S\n",
       "1         1       1  female  38.0      1      0  71.2833        C\n",
       "2         1       3  female  26.0      0      0   7.9250        S\n",
       "3         1       1  female  35.0      1      0  53.1000        S\n",
       "4         0       3    male  35.0      0      0   8.0500        S"
      ]
     },
     "execution_count": 4,
     "metadata": {},
     "output_type": "execute_result"
    }
   ],
   "source": [
    "#予測に不要と考えるcolumnをドロップ \n",
    "titanic_df.drop(['PassengerId', 'Name', 'Ticket', 'Cabin'], axis=1, inplace=True)\n",
    "\n",
    "#一部カラムをドロップしたデータを表示\n",
    "titanic_df.head()"
   ]
  },
  {
   "cell_type": "code",
   "execution_count": 5,
   "id": "dominican-atlas",
   "metadata": {},
   "outputs": [
    {
     "data": {
      "text/html": [
       "<div>\n",
       "<style scoped>\n",
       "    .dataframe tbody tr th:only-of-type {\n",
       "        vertical-align: middle;\n",
       "    }\n",
       "\n",
       "    .dataframe tbody tr th {\n",
       "        vertical-align: top;\n",
       "    }\n",
       "\n",
       "    .dataframe thead th {\n",
       "        text-align: right;\n",
       "    }\n",
       "</style>\n",
       "<table border=\"1\" class=\"dataframe\">\n",
       "  <thead>\n",
       "    <tr style=\"text-align: right;\">\n",
       "      <th></th>\n",
       "      <th>Survived</th>\n",
       "      <th>Pclass</th>\n",
       "      <th>Sex</th>\n",
       "      <th>Age</th>\n",
       "      <th>SibSp</th>\n",
       "      <th>Parch</th>\n",
       "      <th>Fare</th>\n",
       "      <th>Embarked</th>\n",
       "    </tr>\n",
       "  </thead>\n",
       "  <tbody>\n",
       "    <tr>\n",
       "      <th>5</th>\n",
       "      <td>0</td>\n",
       "      <td>3</td>\n",
       "      <td>male</td>\n",
       "      <td>NaN</td>\n",
       "      <td>0</td>\n",
       "      <td>0</td>\n",
       "      <td>8.4583</td>\n",
       "      <td>Q</td>\n",
       "    </tr>\n",
       "    <tr>\n",
       "      <th>17</th>\n",
       "      <td>1</td>\n",
       "      <td>2</td>\n",
       "      <td>male</td>\n",
       "      <td>NaN</td>\n",
       "      <td>0</td>\n",
       "      <td>0</td>\n",
       "      <td>13.0000</td>\n",
       "      <td>S</td>\n",
       "    </tr>\n",
       "    <tr>\n",
       "      <th>19</th>\n",
       "      <td>1</td>\n",
       "      <td>3</td>\n",
       "      <td>female</td>\n",
       "      <td>NaN</td>\n",
       "      <td>0</td>\n",
       "      <td>0</td>\n",
       "      <td>7.2250</td>\n",
       "      <td>C</td>\n",
       "    </tr>\n",
       "    <tr>\n",
       "      <th>26</th>\n",
       "      <td>0</td>\n",
       "      <td>3</td>\n",
       "      <td>male</td>\n",
       "      <td>NaN</td>\n",
       "      <td>0</td>\n",
       "      <td>0</td>\n",
       "      <td>7.2250</td>\n",
       "      <td>C</td>\n",
       "    </tr>\n",
       "    <tr>\n",
       "      <th>28</th>\n",
       "      <td>1</td>\n",
       "      <td>3</td>\n",
       "      <td>female</td>\n",
       "      <td>NaN</td>\n",
       "      <td>0</td>\n",
       "      <td>0</td>\n",
       "      <td>7.8792</td>\n",
       "      <td>Q</td>\n",
       "    </tr>\n",
       "    <tr>\n",
       "      <th>29</th>\n",
       "      <td>0</td>\n",
       "      <td>3</td>\n",
       "      <td>male</td>\n",
       "      <td>NaN</td>\n",
       "      <td>0</td>\n",
       "      <td>0</td>\n",
       "      <td>7.8958</td>\n",
       "      <td>S</td>\n",
       "    </tr>\n",
       "    <tr>\n",
       "      <th>31</th>\n",
       "      <td>1</td>\n",
       "      <td>1</td>\n",
       "      <td>female</td>\n",
       "      <td>NaN</td>\n",
       "      <td>1</td>\n",
       "      <td>0</td>\n",
       "      <td>146.5208</td>\n",
       "      <td>C</td>\n",
       "    </tr>\n",
       "    <tr>\n",
       "      <th>32</th>\n",
       "      <td>1</td>\n",
       "      <td>3</td>\n",
       "      <td>female</td>\n",
       "      <td>NaN</td>\n",
       "      <td>0</td>\n",
       "      <td>0</td>\n",
       "      <td>7.7500</td>\n",
       "      <td>Q</td>\n",
       "    </tr>\n",
       "    <tr>\n",
       "      <th>36</th>\n",
       "      <td>1</td>\n",
       "      <td>3</td>\n",
       "      <td>male</td>\n",
       "      <td>NaN</td>\n",
       "      <td>0</td>\n",
       "      <td>0</td>\n",
       "      <td>7.2292</td>\n",
       "      <td>C</td>\n",
       "    </tr>\n",
       "    <tr>\n",
       "      <th>42</th>\n",
       "      <td>0</td>\n",
       "      <td>3</td>\n",
       "      <td>male</td>\n",
       "      <td>NaN</td>\n",
       "      <td>0</td>\n",
       "      <td>0</td>\n",
       "      <td>7.8958</td>\n",
       "      <td>C</td>\n",
       "    </tr>\n",
       "  </tbody>\n",
       "</table>\n",
       "</div>"
      ],
      "text/plain": [
       "    Survived  Pclass     Sex  Age  SibSp  Parch      Fare Embarked\n",
       "5          0       3    male  NaN      0      0    8.4583        Q\n",
       "17         1       2    male  NaN      0      0   13.0000        S\n",
       "19         1       3  female  NaN      0      0    7.2250        C\n",
       "26         0       3    male  NaN      0      0    7.2250        C\n",
       "28         1       3  female  NaN      0      0    7.8792        Q\n",
       "29         0       3    male  NaN      0      0    7.8958        S\n",
       "31         1       1  female  NaN      1      0  146.5208        C\n",
       "32         1       3  female  NaN      0      0    7.7500        Q\n",
       "36         1       3    male  NaN      0      0    7.2292        C\n",
       "42         0       3    male  NaN      0      0    7.8958        C"
      ]
     },
     "execution_count": 5,
     "metadata": {},
     "output_type": "execute_result"
    }
   ],
   "source": [
    "#nullを含んでいる行を表示\n",
    "titanic_df[titanic_df.isnull().any(1)].head(10)"
   ]
  },
  {
   "cell_type": "code",
   "execution_count": 6,
   "id": "freelance-lending",
   "metadata": {},
   "outputs": [
    {
     "name": "stdout",
     "output_type": "stream",
     "text": [
      "30.72664459161148 27.915708812260537\n"
     ]
    }
   ],
   "source": [
    "# 平均年齢（男女別）\n",
    "age_male_mean = titanic_df[titanic_df[\"Sex\"] == \"male\"]['Age'].mean()\n",
    "age_female_mean = titanic_df[titanic_df[\"Sex\"] == \"female\"]['Age'].mean()\n",
    "print(age_male_mean, age_female_mean)"
   ]
  },
  {
   "cell_type": "code",
   "execution_count": 7,
   "id": "portuguese-weapon",
   "metadata": {},
   "outputs": [
    {
     "data": {
      "text/html": [
       "<div>\n",
       "<style scoped>\n",
       "    .dataframe tbody tr th:only-of-type {\n",
       "        vertical-align: middle;\n",
       "    }\n",
       "\n",
       "    .dataframe tbody tr th {\n",
       "        vertical-align: top;\n",
       "    }\n",
       "\n",
       "    .dataframe thead th {\n",
       "        text-align: right;\n",
       "    }\n",
       "</style>\n",
       "<table border=\"1\" class=\"dataframe\">\n",
       "  <thead>\n",
       "    <tr style=\"text-align: right;\">\n",
       "      <th></th>\n",
       "      <th>Survived</th>\n",
       "      <th>Pclass</th>\n",
       "      <th>Sex</th>\n",
       "      <th>Age</th>\n",
       "      <th>SibSp</th>\n",
       "      <th>Parch</th>\n",
       "      <th>Fare</th>\n",
       "      <th>Embarked</th>\n",
       "      <th>AgeSex</th>\n",
       "      <th>AgeFill</th>\n",
       "    </tr>\n",
       "  </thead>\n",
       "  <tbody>\n",
       "    <tr>\n",
       "      <th>5</th>\n",
       "      <td>0</td>\n",
       "      <td>3</td>\n",
       "      <td>male</td>\n",
       "      <td>NaN</td>\n",
       "      <td>0</td>\n",
       "      <td>0</td>\n",
       "      <td>8.4583</td>\n",
       "      <td>Q</td>\n",
       "      <td>30.726645</td>\n",
       "      <td>30.726645</td>\n",
       "    </tr>\n",
       "    <tr>\n",
       "      <th>17</th>\n",
       "      <td>1</td>\n",
       "      <td>2</td>\n",
       "      <td>male</td>\n",
       "      <td>NaN</td>\n",
       "      <td>0</td>\n",
       "      <td>0</td>\n",
       "      <td>13.0000</td>\n",
       "      <td>S</td>\n",
       "      <td>30.726645</td>\n",
       "      <td>30.726645</td>\n",
       "    </tr>\n",
       "    <tr>\n",
       "      <th>19</th>\n",
       "      <td>1</td>\n",
       "      <td>3</td>\n",
       "      <td>female</td>\n",
       "      <td>NaN</td>\n",
       "      <td>0</td>\n",
       "      <td>0</td>\n",
       "      <td>7.2250</td>\n",
       "      <td>C</td>\n",
       "      <td>27.915709</td>\n",
       "      <td>27.915709</td>\n",
       "    </tr>\n",
       "    <tr>\n",
       "      <th>26</th>\n",
       "      <td>0</td>\n",
       "      <td>3</td>\n",
       "      <td>male</td>\n",
       "      <td>NaN</td>\n",
       "      <td>0</td>\n",
       "      <td>0</td>\n",
       "      <td>7.2250</td>\n",
       "      <td>C</td>\n",
       "      <td>30.726645</td>\n",
       "      <td>30.726645</td>\n",
       "    </tr>\n",
       "    <tr>\n",
       "      <th>28</th>\n",
       "      <td>1</td>\n",
       "      <td>3</td>\n",
       "      <td>female</td>\n",
       "      <td>NaN</td>\n",
       "      <td>0</td>\n",
       "      <td>0</td>\n",
       "      <td>7.8792</td>\n",
       "      <td>Q</td>\n",
       "      <td>27.915709</td>\n",
       "      <td>27.915709</td>\n",
       "    </tr>\n",
       "    <tr>\n",
       "      <th>29</th>\n",
       "      <td>0</td>\n",
       "      <td>3</td>\n",
       "      <td>male</td>\n",
       "      <td>NaN</td>\n",
       "      <td>0</td>\n",
       "      <td>0</td>\n",
       "      <td>7.8958</td>\n",
       "      <td>S</td>\n",
       "      <td>30.726645</td>\n",
       "      <td>30.726645</td>\n",
       "    </tr>\n",
       "    <tr>\n",
       "      <th>31</th>\n",
       "      <td>1</td>\n",
       "      <td>1</td>\n",
       "      <td>female</td>\n",
       "      <td>NaN</td>\n",
       "      <td>1</td>\n",
       "      <td>0</td>\n",
       "      <td>146.5208</td>\n",
       "      <td>C</td>\n",
       "      <td>27.915709</td>\n",
       "      <td>27.915709</td>\n",
       "    </tr>\n",
       "    <tr>\n",
       "      <th>32</th>\n",
       "      <td>1</td>\n",
       "      <td>3</td>\n",
       "      <td>female</td>\n",
       "      <td>NaN</td>\n",
       "      <td>0</td>\n",
       "      <td>0</td>\n",
       "      <td>7.7500</td>\n",
       "      <td>Q</td>\n",
       "      <td>27.915709</td>\n",
       "      <td>27.915709</td>\n",
       "    </tr>\n",
       "    <tr>\n",
       "      <th>36</th>\n",
       "      <td>1</td>\n",
       "      <td>3</td>\n",
       "      <td>male</td>\n",
       "      <td>NaN</td>\n",
       "      <td>0</td>\n",
       "      <td>0</td>\n",
       "      <td>7.2292</td>\n",
       "      <td>C</td>\n",
       "      <td>30.726645</td>\n",
       "      <td>30.726645</td>\n",
       "    </tr>\n",
       "    <tr>\n",
       "      <th>42</th>\n",
       "      <td>0</td>\n",
       "      <td>3</td>\n",
       "      <td>male</td>\n",
       "      <td>NaN</td>\n",
       "      <td>0</td>\n",
       "      <td>0</td>\n",
       "      <td>7.8958</td>\n",
       "      <td>C</td>\n",
       "      <td>30.726645</td>\n",
       "      <td>30.726645</td>\n",
       "    </tr>\n",
       "  </tbody>\n",
       "</table>\n",
       "</div>"
      ],
      "text/plain": [
       "    Survived  Pclass     Sex  Age  SibSp  Parch      Fare Embarked     AgeSex  \\\n",
       "5          0       3    male  NaN      0      0    8.4583        Q  30.726645   \n",
       "17         1       2    male  NaN      0      0   13.0000        S  30.726645   \n",
       "19         1       3  female  NaN      0      0    7.2250        C  27.915709   \n",
       "26         0       3    male  NaN      0      0    7.2250        C  30.726645   \n",
       "28         1       3  female  NaN      0      0    7.8792        Q  27.915709   \n",
       "29         0       3    male  NaN      0      0    7.8958        S  30.726645   \n",
       "31         1       1  female  NaN      1      0  146.5208        C  27.915709   \n",
       "32         1       3  female  NaN      0      0    7.7500        Q  27.915709   \n",
       "36         1       3    male  NaN      0      0    7.2292        C  30.726645   \n",
       "42         0       3    male  NaN      0      0    7.8958        C  30.726645   \n",
       "\n",
       "      AgeFill  \n",
       "5   30.726645  \n",
       "17  30.726645  \n",
       "19  27.915709  \n",
       "26  30.726645  \n",
       "28  27.915709  \n",
       "29  30.726645  \n",
       "31  27.915709  \n",
       "32  27.915709  \n",
       "36  30.726645  \n",
       "42  30.726645  "
      ]
     },
     "execution_count": 7,
     "metadata": {},
     "output_type": "execute_result"
    }
   ],
   "source": [
    "titanic_df['AgeSex'] = titanic_df.apply(lambda x: age_male_mean if x['Sex']==\"male\" else age_female_mean, axis=1)\n",
    "titanic_df['AgeFill'] = titanic_df.apply(lambda x: x['Age'] if x['Age'] > 0 else x['AgeSex'], axis=1)\n",
    "\n",
    "titanic_df[titanic_df.isnull().any(1)].head(10)"
   ]
  },
  {
   "cell_type": "code",
   "execution_count": 8,
   "id": "correct-aquarium",
   "metadata": {},
   "outputs": [
    {
     "data": {
      "text/html": [
       "<div>\n",
       "<style scoped>\n",
       "    .dataframe tbody tr th:only-of-type {\n",
       "        vertical-align: middle;\n",
       "    }\n",
       "\n",
       "    .dataframe tbody tr th {\n",
       "        vertical-align: top;\n",
       "    }\n",
       "\n",
       "    .dataframe thead th {\n",
       "        text-align: right;\n",
       "    }\n",
       "</style>\n",
       "<table border=\"1\" class=\"dataframe\">\n",
       "  <thead>\n",
       "    <tr style=\"text-align: right;\">\n",
       "      <th></th>\n",
       "      <th>Survived</th>\n",
       "      <th>Pclass</th>\n",
       "      <th>Sex</th>\n",
       "      <th>Age</th>\n",
       "      <th>SibSp</th>\n",
       "      <th>Parch</th>\n",
       "      <th>Fare</th>\n",
       "      <th>Embarked</th>\n",
       "      <th>AgeSex</th>\n",
       "      <th>AgeFill</th>\n",
       "    </tr>\n",
       "  </thead>\n",
       "  <tbody>\n",
       "    <tr>\n",
       "      <th>0</th>\n",
       "      <td>0</td>\n",
       "      <td>3</td>\n",
       "      <td>male</td>\n",
       "      <td>22.0</td>\n",
       "      <td>1</td>\n",
       "      <td>0</td>\n",
       "      <td>7.2500</td>\n",
       "      <td>S</td>\n",
       "      <td>30.726645</td>\n",
       "      <td>22.0</td>\n",
       "    </tr>\n",
       "    <tr>\n",
       "      <th>1</th>\n",
       "      <td>1</td>\n",
       "      <td>1</td>\n",
       "      <td>female</td>\n",
       "      <td>38.0</td>\n",
       "      <td>1</td>\n",
       "      <td>0</td>\n",
       "      <td>71.2833</td>\n",
       "      <td>C</td>\n",
       "      <td>27.915709</td>\n",
       "      <td>38.0</td>\n",
       "    </tr>\n",
       "    <tr>\n",
       "      <th>2</th>\n",
       "      <td>1</td>\n",
       "      <td>3</td>\n",
       "      <td>female</td>\n",
       "      <td>26.0</td>\n",
       "      <td>0</td>\n",
       "      <td>0</td>\n",
       "      <td>7.9250</td>\n",
       "      <td>S</td>\n",
       "      <td>27.915709</td>\n",
       "      <td>26.0</td>\n",
       "    </tr>\n",
       "    <tr>\n",
       "      <th>3</th>\n",
       "      <td>1</td>\n",
       "      <td>1</td>\n",
       "      <td>female</td>\n",
       "      <td>35.0</td>\n",
       "      <td>1</td>\n",
       "      <td>0</td>\n",
       "      <td>53.1000</td>\n",
       "      <td>S</td>\n",
       "      <td>27.915709</td>\n",
       "      <td>35.0</td>\n",
       "    </tr>\n",
       "    <tr>\n",
       "      <th>4</th>\n",
       "      <td>0</td>\n",
       "      <td>3</td>\n",
       "      <td>male</td>\n",
       "      <td>35.0</td>\n",
       "      <td>0</td>\n",
       "      <td>0</td>\n",
       "      <td>8.0500</td>\n",
       "      <td>S</td>\n",
       "      <td>30.726645</td>\n",
       "      <td>35.0</td>\n",
       "    </tr>\n",
       "  </tbody>\n",
       "</table>\n",
       "</div>"
      ],
      "text/plain": [
       "   Survived  Pclass     Sex   Age  SibSp  Parch     Fare Embarked     AgeSex  \\\n",
       "0         0       3    male  22.0      1      0   7.2500        S  30.726645   \n",
       "1         1       1  female  38.0      1      0  71.2833        C  27.915709   \n",
       "2         1       3  female  26.0      0      0   7.9250        S  27.915709   \n",
       "3         1       1  female  35.0      1      0  53.1000        S  27.915709   \n",
       "4         0       3    male  35.0      0      0   8.0500        S  30.726645   \n",
       "\n",
       "   AgeFill  \n",
       "0     22.0  \n",
       "1     38.0  \n",
       "2     26.0  \n",
       "3     35.0  \n",
       "4     35.0  "
      ]
     },
     "execution_count": 8,
     "metadata": {},
     "output_type": "execute_result"
    }
   ],
   "source": [
    "titanic_df.head()"
   ]
  },
  {
   "cell_type": "markdown",
   "id": "affiliated-indicator",
   "metadata": {},
   "source": [
    "チケット価格から生死を判別"
   ]
  },
  {
   "cell_type": "code",
   "execution_count": 9,
   "id": "unusual-universal",
   "metadata": {},
   "outputs": [
    {
     "data": {
      "text/plain": [
       "array([[ 7.25  ],\n",
       "       [71.2833],\n",
       "       [ 7.925 ],\n",
       "       [53.1   ],\n",
       "       [ 8.05  ],\n",
       "       [ 8.4583],\n",
       "       [51.8625],\n",
       "       [21.075 ],\n",
       "       [11.1333],\n",
       "       [30.0708]])"
      ]
     },
     "execution_count": 9,
     "metadata": {},
     "output_type": "execute_result"
    }
   ],
   "source": [
    "#運賃だけのリストを作成\n",
    "data1 = titanic_df.loc[:, [\"Fare\"]].values\n",
    "data1[:10]"
   ]
  },
  {
   "cell_type": "code",
   "execution_count": 22,
   "id": "outer-tourism",
   "metadata": {},
   "outputs": [],
   "source": [
    "#生死フラグのみのリストを作成\n",
    "label1 =  titanic_df.loc[:,[\"Survived\"]].values\n",
    "from sklearn.linear_model import LogisticRegression\n",
    "model=LogisticRegression()"
   ]
  },
  {
   "cell_type": "code",
   "execution_count": 23,
   "id": "important-bunny",
   "metadata": {},
   "outputs": [
    {
     "name": "stderr",
     "output_type": "stream",
     "text": [
      "c:\\python\\python37\\lib\\site-packages\\sklearn\\utils\\validation.py:72: DataConversionWarning: A column-vector y was passed when a 1d array was expected. Please change the shape of y to (n_samples, ), for example using ravel().\n",
      "  return f(**kwargs)\n"
     ]
    },
    {
     "data": {
      "text/plain": [
       "LogisticRegression()"
      ]
     },
     "execution_count": 23,
     "metadata": {},
     "output_type": "execute_result"
    }
   ],
   "source": [
    "model.fit(data1, label1)"
   ]
  },
  {
   "cell_type": "code",
   "execution_count": 25,
   "id": "gentle-palace",
   "metadata": {},
   "outputs": [
    {
     "data": {
      "text/plain": [
       "32.204207968574636"
      ]
     },
     "execution_count": 25,
     "metadata": {},
     "output_type": "execute_result"
    }
   ],
   "source": [
    "data1.mean()"
   ]
  },
  {
   "cell_type": "code",
   "execution_count": 26,
   "id": "temporal-husband",
   "metadata": {},
   "outputs": [
    {
     "data": {
      "text/plain": [
       "array([0], dtype=int64)"
      ]
     },
     "execution_count": 26,
     "metadata": {},
     "output_type": "execute_result"
    }
   ],
   "source": [
    "# 分類結果を表示\n",
    "model.predict([[data1.mean()]])"
   ]
  },
  {
   "cell_type": "code",
   "execution_count": 27,
   "id": "violent-chuck",
   "metadata": {},
   "outputs": [
    {
     "data": {
      "text/plain": [
       "array([[0.61109599, 0.38890401]])"
      ]
     },
     "execution_count": 27,
     "metadata": {},
     "output_type": "execute_result"
    }
   ],
   "source": [
    "# 分類結果を出す前の確率を表示\n",
    "model.predict_proba([[data1.mean()]])"
   ]
  },
  {
   "cell_type": "code",
   "execution_count": 28,
   "id": "wireless-syracuse",
   "metadata": {},
   "outputs": [
    {
     "data": {
      "text/plain": [
       "array([-8.31142163e-01,  1.41950257e-01, -8.20884416e-01, -1.34375208e-01,\n",
       "       -8.18984834e-01, -8.12780037e-01, -1.53181078e-01, -6.21048311e-01,\n",
       "       -7.72128966e-01, -4.84342178e-01, -6.87533707e-01, -5.37846586e-01,\n",
       "       -8.18984834e-01, -4.66042358e-01, -8.21960340e-01, -6.98171370e-01,\n",
       "       -4.98715181e-01, -7.43761357e-01, -6.67778046e-01, -8.31522080e-01,\n",
       "       -5.46204750e-01, -7.43761357e-01, -8.19300924e-01, -4.01836460e-01,\n",
       "       -6.21048311e-01, -4.64332733e-01, -8.31522080e-01,  3.05540416e+00,\n",
       "       -8.21580424e-01, -8.21328159e-01, -5.20054334e-01,  1.28530912e+00,\n",
       "       -8.23543832e-01, -7.81753012e-01,  3.07403915e-01, -1.51091537e-01,\n",
       "       -8.31458254e-01, -8.18984834e-01, -6.67778046e-01, -7.70481647e-01,\n",
       "       -7.97329590e-01, -6.22188060e-01, -8.21328159e-01, -3.09452913e-01,\n",
       "       -8.21580424e-01, -8.18984834e-01, -7.05769701e-01, -8.23543832e-01,\n",
       "       -6.11866487e-01, -6.70817379e-01, -3.38200438e-01, -8.22783999e-01,\n",
       "        2.24709758e-01, -5.46204750e-01,  5.58993239e-04, -4.01836460e-01,\n",
       "       -7.81753012e-01, -8.31458254e-01, -5.19610591e-01, -2.28594513e-01,\n",
       "       -8.31458254e-01,  2.74415001e-01,  3.27223401e-01, -5.17331092e-01,\n",
       "       -5.20054334e-01, -7.09632693e-01, -7.81753012e-01, -8.17339035e-01,\n",
       "       -8.20884416e-01, -8.09676878e-01, -7.81753012e-01, -2.28594513e-01,\n",
       "        1.75636697e-01, -7.21662371e-01, -8.27703834e-02, -8.25063499e-01,\n",
       "       -8.21328159e-01, -8.18984834e-01, -5.00614764e-01, -7.51739604e-01,\n",
       "       -8.04548005e-01, -7.96949674e-01, -8.22973957e-01, -2.25555181e-01,\n",
       "       -7.81753012e-01, -7.00450870e-01, -4.18932705e-01, -8.18984834e-01,\n",
       "        3.05540416e+00, -8.18984834e-01, -8.18984834e-01, -8.21960340e-01,\n",
       "       -1.16621624e-02, -6.28646642e-01, -8.31142163e-01, -8.18984834e-01,\n",
       "       -4.14689797e-01,  2.15167099e-02, -5.91794736e-01, -5.46204750e-01,\n",
       "       -8.21328159e-01, -8.21328159e-01,  2.33194055e-01, -8.09803010e-01,\n",
       "       -8.20884416e-01, -8.21328159e-01, -8.25063499e-01, -8.23163916e-01,\n",
       "       -8.21328159e-01, -5.74318575e-01, -1.51091537e-01, -7.21662371e-01,\n",
       "       -8.18984834e-01, -7.92010759e-01, -7.21600064e-01, -8.20884416e-01,\n",
       "       -8.23543832e-01, -6.22188060e-01,  2.82017198e+00, -4.66042358e-01,\n",
       "        1.75636697e-01, -8.18984834e-01, -4.84342178e-01, -7.43761357e-01,\n",
       "        2.33194055e-01, -7.70481647e-01, -8.23543832e-01, -8.32787962e-01,\n",
       "       -6.01546434e-01, -8.35321245e-01, -8.21328159e-01, -8.34181496e-01,\n",
       "       -7.20966363e-01, -5.46204750e-01, -7.43761357e-01, -7.12672025e-01,\n",
       "       -5.41899536e-01, -1.34375208e-01, -8.01254888e-01,  2.62257671e-01,\n",
       "       -7.09632693e-01, -8.23543832e-01, -7.00450870e-01, -8.38740494e-01,\n",
       "       -7.66556350e-01, -3.82840633e-01, -8.22847825e-01, -4.18932705e-01,\n",
       "       -5.46204750e-01, -7.43761357e-01, -7.50979771e-01,  7.07797292e-02,\n",
       "       -8.18984834e-01, -7.20966363e-01, -8.30192372e-01, -8.55900399e-03,\n",
       "       -8.23797617e-01, -8.18984834e-01, -8.09676878e-01,  1.15609882e-01,\n",
       "       -6.96651704e-01, -7.01970536e-01, -8.23163916e-01, -8.09676878e-01,\n",
       "       -3.38200438e-01, -6.29406475e-01, -1.05501551e-01, -5.17331092e-01,\n",
       "       -5.47344500e-01, -8.27703834e-02, -4.32229785e-01, -4.98715181e-01,\n",
       "       -7.72128966e-01, -8.20884416e-01, -4.74844264e-01, -8.21960340e-01,\n",
       "       -5.54309130e-01, -5.04983804e-01, -7.43761357e-01, -9.41317963e-01,\n",
       "        1.15609882e-01, -7.12608199e-01, -4.64332733e-01, -3.48648143e-01,\n",
       "       -6.06611482e-01, -1.81484861e-01, -7.05769701e-01, -5.37846586e-01,\n",
       "       -7.05769701e-01, -8.21328159e-01, -7.43761357e-01, -7.43761357e-01,\n",
       "       -8.21960340e-01, -5.46204750e-01, -5.20054334e-01,  1.28530912e+00,\n",
       "       -8.23543832e-01, -8.13602176e-01, -8.23543832e-01, -7.43761357e-01,\n",
       "       -7.96949674e-01,  1.15609882e-01, -8.42603486e-01, -8.31522080e-01,\n",
       "       -8.18984834e-01, -7.82322887e-01, -7.00450870e-01, -6.55810675e-01,\n",
       "       -8.23543832e-01, -4.70221440e-01, -8.34181496e-01, -6.22188060e-01,\n",
       "       -8.31142163e-01, -7.43761357e-01, -8.23543832e-01,  7.80083930e-01,\n",
       "       -8.20884416e-01, -5.31008088e-01,  2.18061219e-01, -7.81753012e-01,\n",
       "       -8.18984834e-01, -7.43761357e-01, -8.18984834e-01, -8.21328159e-01,\n",
       "        4.26381621e-01, -7.99229173e-01, -7.81753012e-01, -8.31142163e-01,\n",
       "       -7.43761357e-01, -5.54309130e-01,  3.27223401e-01, -8.23163916e-01,\n",
       "       -7.36163026e-01, -4.64332733e-01, -7.81753012e-01, -8.26583165e-01,\n",
       "       -5.46204750e-01, -5.42405584e-01, -7.81753012e-01, -7.54778937e-01,\n",
       "       -7.21662371e-01, -7.05769701e-01, -7.81753012e-01, -8.33041746e-01,\n",
       "       -8.31522080e-01,  4.26381621e-01, -8.23163916e-01, -7.20966363e-01,\n",
       "       -1.42669547e-01, -5.46204750e-01, -8.31142163e-01, -7.82322887e-01,\n",
       "       -5.37846586e-01, -6.96651704e-01, -6.34155432e-01, -7.09632693e-01,\n",
       "        2.62257671e-01,  3.73193304e-01,  6.84437575e+00, -5.46204750e-01,\n",
       "       -8.23543832e-01, -4.64332733e-01,  2.69096169e-01, -9.41317963e-01,\n",
       "       -8.23543832e-01, -7.81753012e-01, -3.38200438e-01, -8.23163916e-01,\n",
       "        1.39079979e+00,  1.11985546e+00, -4.70221440e-01, -9.41317963e-01,\n",
       "       -6.44983053e-01, -4.89977100e-01, -8.23543832e-01,  2.43387976e-01,\n",
       "       -8.23543832e-01, -9.41317963e-01, -4.98715181e-01, -6.33585557e-01,\n",
       "       -8.23543832e-01, -8.21960340e-01, -7.96949674e-01, -8.18984834e-01,\n",
       "       -5.46204750e-01, -8.09676878e-01, -7.96949674e-01, -8.21328159e-01,\n",
       "       -7.43761357e-01, -8.23543832e-01,  2.56938839e-01,  4.42781859e-01,\n",
       "       -7.45660939e-01, -8.06827504e-01, -8.21328159e-01, -5.20054334e-01,\n",
       "       -8.31458254e-01,  1.36173617e+00, -4.77819771e-01,  2.82017198e+00,\n",
       "       -8.23543832e-01, -5.87995571e-01, -9.41317963e-01, -7.53639187e-01,\n",
       "       -8.18984834e-01,  1.36173617e+00,  7.43738074e-01,  7.13598534e-01,\n",
       "       -5.76598074e-01, -7.61841501e-02,  3.22410618e-01,  3.04590624e+00,\n",
       "       -5.46204750e-01, -8.21328159e-01, -5.42405584e-01, -8.21960340e-01,\n",
       "       -5.46204750e-01, -7.28564695e-01,  1.56410556e+00,  1.10263308e+00,\n",
       "       -8.31142163e-01, -8.21328159e-01, -7.53639187e-01, -5.00614764e-01,\n",
       "        1.15609882e-01,  1.11985546e+00, -8.46528784e-01, -7.43761357e-01,\n",
       "       -6.29406475e-01, -6.02276550e-02, -5.87995571e-01, -5.08213095e-01,\n",
       "        1.39079979e+00, -6.67778046e-01,  1.08971592e+00, -8.21328159e-01,\n",
       "        7.07797292e-02,  1.10263308e+00, -8.18984834e-01, -4.01836460e-01,\n",
       "       -5.46204750e-01,  3.05540416e+00, -7.43761357e-01, -7.43761357e-01,\n",
       "       -7.43761357e-01, -7.43761357e-01, -7.43761357e-01, -6.96651704e-01,\n",
       "       -6.99691037e-01, -8.09676878e-01, -8.01128756e-01, -4.09434792e-01,\n",
       "       -8.31458254e-01, -6.70817379e-01, -8.31522080e-01, -7.96949674e-01,\n",
       "       -1.05501551e-01, -7.43761357e-01, -8.21580424e-01, -8.21580424e-01,\n",
       "       -5.17331092e-01, -5.20054334e-01, -7.21662371e-01, -8.34181496e-01,\n",
       "       -7.05769701e-01, -8.31142163e-01,  2.02230856e-01, -8.31458254e-01,\n",
       "       -8.23543832e-01,  1.11810717e-01, -9.87891849e-02, -8.42603486e-01,\n",
       "       -8.18984834e-01,  1.11985546e+00, -6.21048311e-01,  3.07403915e-01,\n",
       "       -8.31142163e-01,  2.27277606e+00, -8.80341357e-01, -8.23163916e-01,\n",
       "        2.51630257e+00, -7.02096668e-01, -8.20884416e-01, -1.51091537e-01,\n",
       "       -8.21328159e-01,  1.75636697e-01, -2.28594513e-01, -7.43761357e-01,\n",
       "       -8.23859923e-01, -7.58958019e-01,  8.82281483e-01, -8.22847825e-01,\n",
       "       -8.20884416e-01,  7.80083930e-01, -6.87533707e-01, -8.22847825e-01,\n",
       "       -8.21960340e-01, -5.46204750e-01, -7.81753012e-01, -7.49080188e-01,\n",
       "       -8.20884416e-01, -8.18984834e-01, -7.92010759e-01, -7.00450870e-01,\n",
       "       -8.09676878e-01, -6.22188060e-01, -8.23543832e-01, -6.56380550e-01,\n",
       "       -8.23163916e-01, -5.54309130e-01, -8.21328159e-01, -8.37094696e-01,\n",
       "        4.26381621e-01, -9.41317963e-01, -8.20884416e-01, -8.18984834e-01,\n",
       "       -4.47426447e-01, -7.43761357e-01, -7.43761357e-01, -5.74318575e-01,\n",
       "       -8.21328159e-01, -8.23797617e-01, -8.21644250e-01, -7.22486030e-01,\n",
       "       -6.34155432e-01, -8.31142163e-01, -5.46204750e-01, -5.46204750e-01,\n",
       "       -8.23543832e-01, -8.18984834e-01, -5.37846586e-01, -6.96651704e-01,\n",
       "       -5.46204750e-01, -8.33041746e-01, -9.18245547e-02,  8.82281483e-01,\n",
       "       -4.18932705e-01, -6.56380550e-01,  3.05540416e+00, -7.81753012e-01,\n",
       "       -5.42405584e-01, -7.96949674e-01, -8.23163916e-01, -7.43761357e-01,\n",
       "       -8.18035042e-01,  3.02654958e-01, -6.44983053e-01, -5.37846586e-01,\n",
       "       -6.48656086e-01, -4.77819771e-01, -5.19610591e-01, -6.37890771e-01,\n",
       "       -5.19610591e-01,  4.12768451e-01, -8.18984834e-01, -8.21328159e-01,\n",
       "       -5.37846586e-01, -1.53181078e-01, -7.81753012e-01, -8.23543832e-01,\n",
       "       -5.37846586e-01, -8.18984834e-01, -3.56246474e-01, -7.43761357e-01,\n",
       "       -8.18984834e-01, -8.34181496e-01, -9.41317963e-01, -5.37846586e-01,\n",
       "       -8.23923749e-01, -6.48656086e-01, -8.31142163e-01, -8.09676878e-01,\n",
       "       -5.19610591e-01, -7.31730159e-01, -7.91820800e-01, -1.51091537e-01,\n",
       "       -6.22188060e-01, -8.34245322e-01, -8.27026907e-01, -7.54588978e-01,\n",
       "       -2.28594513e-01, -9.41317963e-01, -8.18984834e-01, -7.95619966e-01,\n",
       "        4.42781859e-01, -5.54309130e-01,  4.26381621e-01, -4.89977100e-01,\n",
       "       -8.18984834e-01, -6.99691037e-01, -6.37890771e-01, -8.31142163e-01,\n",
       "       -4.77819771e-01, -1.89019366e-01, -8.18984834e-01, -7.21600064e-01,\n",
       "        2.48074626e-01, -7.11848366e-01,  1.36173617e+00, -8.22847825e-01,\n",
       "       -8.09676878e-01, -8.23543832e-01, -8.25379589e-01, -7.95619966e-01,\n",
       "        3.73193304e-01,  7.13598534e-01, -5.46204750e-01, -5.37846586e-01,\n",
       "       -5.99013151e-01, -8.27703834e-02, -8.23543832e-01, -8.18984834e-01,\n",
       "       -5.41835710e-01, -3.86362375e-02, -8.27406824e-01, -4.24315363e-01,\n",
       "       -7.81753012e-01, -5.74318575e-01, -5.46204750e-01, -8.21328159e-01,\n",
       "        4.79569938e-01, -8.21328159e-01, -8.31522080e-01, -6.02276550e-02,\n",
       "       -8.31458254e-01, -8.23543832e-01, -7.81753012e-01,  2.42898559e+00,\n",
       "       -8.20884416e-01, -7.66556350e-01, -5.46204750e-01, -8.31458254e-01,\n",
       "       -8.31458254e-01, -6.01546434e-01, -8.09676878e-01, -5.42405584e-01,\n",
       "       -5.37846586e-01,  6.75986795e-01, -7.20966363e-01, -1.89083192e-01,\n",
       "        1.37645042e-01, -4.66042358e-01, -4.66042358e-01, -5.46204750e-01,\n",
       "        6.75986795e-01, -5.46204750e-01, -5.46204750e-01, -7.30654236e-01,\n",
       "       -6.29406475e-01, -3.82840633e-01,  7.43738074e-01, -5.46204750e-01,\n",
       "       -8.22340257e-01, -8.31522080e-01, -8.23163916e-01, -5.37846586e-01,\n",
       "       -3.39530146e-01,  2.51630257e+00,  2.69096169e-01, -6.76896044e-01,\n",
       "       -8.23543832e-01, -8.21328159e-01, -7.36163026e-01, -8.18984834e-01,\n",
       "       -8.18984834e-01, -5.74318575e-01, -8.21328159e-01, -6.21048311e-01,\n",
       "       -8.31458254e-01, -8.21960340e-01, -7.81753012e-01, -1.59005958e-01,\n",
       "       -5.40316043e-01, -8.23543832e-01, -8.18984834e-01, -7.20966363e-01,\n",
       "       -7.43761357e-01, -9.18245547e-02, -7.21600064e-01, -8.20884416e-01,\n",
       "       -4.85418102e-01,  7.43738074e-01, -5.46204750e-01, -3.31551899e-01,\n",
       "       -8.08917045e-01,  2.69096169e-01, -7.13368032e-01,  2.62257671e-01,\n",
       "       -8.18984834e-01, -8.18984834e-01, -8.33041746e-01,  2.48074626e-01,\n",
       "       -8.31142163e-01, -8.23543832e-01, -5.46204750e-01, -5.74318575e-01,\n",
       "       -4.39828116e-01, -9.41317963e-01, -8.31522080e-01, -7.61841501e-02,\n",
       "       -5.31008088e-01, -8.21328159e-01, -2.96979492e-01, -8.18984834e-01,\n",
       "       -5.37846586e-01, -7.05009868e-01, -8.21328159e-01, -4.77819771e-01,\n",
       "       -3.09452913e-01,  1.39079979e+00, -4.66042358e-01, -8.34181496e-01,\n",
       "       -7.05769701e-01, -8.23543832e-01, -8.18984834e-01,  4.64650700e-02,\n",
       "       -7.22486030e-01, -6.96651704e-01, -3.48648143e-01, -7.81753012e-01,\n",
       "       -7.21662371e-01, -1.42669547e-01, -7.02096668e-01, -8.21960340e-01,\n",
       "       -6.96651704e-01, -4.50149688e-01, -7.53639187e-01,  2.43387976e-01,\n",
       "       -8.21328159e-01, -8.23797617e-01, -4.85418102e-01, -8.34117670e-01,\n",
       "       -4.77819771e-01, -9.41317963e-01, -5.17331092e-01, -7.43761357e-01,\n",
       "       -8.20884416e-01, -5.42405584e-01, -3.38200438e-01, -6.96651704e-01,\n",
       "       -8.21960340e-01,  1.11810717e-01, -5.17331092e-01, -8.27703834e-02,\n",
       "       -6.48656086e-01,  2.24709758e-01, -8.21328159e-01, -4.01836460e-01,\n",
       "       -8.26583165e-01, -8.26583165e-01, -8.21328159e-01, -5.91794736e-01,\n",
       "       -8.13159953e-01, -8.22340257e-01, -8.38740494e-01,  1.75636697e-01,\n",
       "       -8.21328159e-01, -7.05769701e-01, -7.43761357e-01,  7.80083930e-01,\n",
       "        1.08971592e+00, -8.31522080e-01, -5.52473373e-01, -8.27406824e-01,\n",
       "       -8.20884416e-01,  1.75636697e-01, -7.43761357e-01, -8.23163916e-01,\n",
       "       -8.18984834e-01, -1.51091537e-01, -3.48648143e-01, -1.51091537e-01,\n",
       "       -7.81753012e-01, -7.43761357e-01, -9.41317963e-01, -8.23163916e-01,\n",
       "       -8.18984834e-01, -7.91756974e-01, -2.28594513e-01,  6.84437575e+00,\n",
       "       -8.17655126e-01,  2.24709758e-01, -8.01128756e-01, -2.28594513e-01,\n",
       "       -3.48648143e-01, -3.09452913e-01, -3.38200438e-01, -7.86755753e-01,\n",
       "       -8.22847825e-01,  2.27030660e+00, -7.51082264e-02, -7.37428907e-01,\n",
       "       -8.27703834e-02, -8.31522080e-01, -5.37846586e-01, -7.36163026e-01,\n",
       "       -8.18984834e-01, -8.23797617e-01,  7.43738074e-01, -8.25063499e-01,\n",
       "        2.51630257e+00, -5.41835710e-01, -7.21662371e-01, -8.23669965e-01,\n",
       "       -8.21960340e-01, -5.46204750e-01, -7.36163026e-01, -5.41835710e-01,\n",
       "        1.36173617e+00, -7.09632693e-01, -1.89019366e-01, -5.37846586e-01,\n",
       "       -1.51091537e-01, -7.97203458e-01, -7.43761357e-01, -8.25063499e-01,\n",
       "        2.51630257e+00, -7.81753012e-01, -7.05769701e-01, -8.23163916e-01,\n",
       "       -4.39828116e-01, -8.34117670e-01, -7.43761357e-01, -7.43761357e-01,\n",
       "       -1.34375208e-01, -8.09676878e-01, -6.22188060e-01, -8.23733791e-01,\n",
       "       -5.46204750e-01, -8.20884416e-01,  2.27030660e+00, -6.55810675e-01,\n",
       "       -9.41317963e-01, -7.43761357e-01, -7.43761357e-01, -6.96651704e-01,\n",
       "       -4.18932705e-01,  6.84437575e+00, -8.21328159e-01, -8.21328159e-01,\n",
       "       -4.85418102e-01,  2.56938839e-01,  3.04590624e+00, -6.96651704e-01,\n",
       "       -8.20884416e-01,  1.37645042e-01, -6.33585557e-01, -7.43761357e-01,\n",
       "       -1.34375208e-01, -8.23543832e-01, -5.91794736e-01, -7.51739604e-01,\n",
       "       -7.96949674e-01, -8.21328159e-01,  4.64650700e-02, -7.20966363e-01,\n",
       "       -8.22847825e-01, -7.66556350e-01, -8.18984834e-01,  3.73193304e-01,\n",
       "       -7.20966363e-01, -8.33041746e-01, -8.31458254e-01,  8.82281483e-01,\n",
       "       -8.23163916e-01,  2.43387976e-01, -3.39530146e-01, -8.23543832e-01,\n",
       "       -5.74318575e-01, -8.14235877e-01, -7.96949674e-01, -8.21960340e-01,\n",
       "       -7.81753012e-01, -8.31522080e-01, -5.91794736e-01, -8.23543832e-01,\n",
       "       -8.23543832e-01, -7.51739604e-01, -8.23733791e-01,  2.27030660e+00,\n",
       "       -8.31458254e-01, -7.51082264e-02, -4.85418102e-01, -5.84956238e-01,\n",
       "       -8.34181496e-01, -8.31142163e-01, -8.27406824e-01, -4.98715181e-01,\n",
       "       -6.28646642e-01,  2.62257671e-01, -8.23543832e-01, -5.46204750e-01,\n",
       "        1.15609882e-01, -4.74844264e-01, -8.21328159e-01, -7.43761357e-01,\n",
       "       -5.47280674e-01, -8.09360788e-01, -8.31458254e-01, -5.74318575e-01,\n",
       "       -7.43761357e-01, -5.42405584e-01,  8.82281483e-01, -8.11892552e-01,\n",
       "       -8.35321245e-01, -8.23163916e-01, -9.41317963e-01, -8.23163916e-01,\n",
       "       -7.43761357e-01, -1.34375208e-01, -8.21454291e-01, -5.74318575e-01,\n",
       "       -7.81753012e-01, -4.66042358e-01, -8.18984834e-01, -9.41317963e-01,\n",
       "       -8.20884416e-01, -3.78977641e-01, -8.43299493e-01, -5.17331092e-01,\n",
       "        4.79569938e-01, -8.09676878e-01, -9.41317963e-01, -7.51739604e-01,\n",
       "       -3.38200438e-01, -8.35701162e-01, -8.27703834e-02, -3.78977641e-01,\n",
       "       -8.23543832e-01,  2.74415001e-01, -7.21662371e-01, -6.56380550e-01,\n",
       "       -8.31458254e-01, -8.21960340e-01, -8.15185668e-01,  3.22410618e-01,\n",
       "       -8.09676878e-01, -8.18984834e-01, -8.27703834e-02, -4.89977100e-01,\n",
       "       -8.20884416e-01, -7.81753012e-01, -4.70221440e-01, -8.43489451e-01,\n",
       "       -8.09676878e-01, -8.26583165e-01,  1.15609882e-01, -8.21328159e-01,\n",
       "       -4.39828116e-01,  4.12768451e-01, -4.66042358e-01, -8.23163916e-01,\n",
       "       -7.09632693e-01, -3.42569478e-01, -5.46204750e-01, -7.99229173e-01,\n",
       "        1.56410556e+00, -5.37846586e-01, -6.48656086e-01, -8.31458254e-01,\n",
       "       -7.26918896e-01, -7.66556350e-01, -5.47280674e-01,  1.15609882e-01,\n",
       "       -7.43761357e-01, -7.43761357e-01, -7.30718062e-01, -1.73950356e-01,\n",
       "       -7.96949674e-01, -7.72128966e-01, -8.21328159e-01, -1.42669547e-01,\n",
       "       -8.65334653e-01, -8.04548005e-01, -5.76598074e-01, -8.31522080e-01,\n",
       "       -7.91694668e-01, -8.21328159e-01, -8.21328159e-01,  3.22410618e-01,\n",
       "       -5.46204750e-01, -8.21328159e-01, -7.81499227e-01, -7.81753012e-01,\n",
       "       -8.34181496e-01, -4.98715181e-01, -7.43761357e-01, -4.85418102e-01,\n",
       "       -5.84956238e-01, -4.85418102e-01, -8.23543832e-01])"
      ]
     },
     "execution_count": 28,
     "metadata": {},
     "output_type": "execute_result"
    }
   ],
   "source": [
    "X_test_value = model.decision_function(data1)\n",
    "X_test_value[:10]"
   ]
  },
  {
   "cell_type": "code",
   "execution_count": 29,
   "id": "secondary-weekly",
   "metadata": {},
   "outputs": [
    {
     "name": "stdout",
     "output_type": "stream",
     "text": [
      "[-0.94131796]\n",
      "[[0.01519666]]\n"
     ]
    }
   ],
   "source": [
    "print (model.intercept_)#切片\n",
    "print (model.coef_)#傾き"
   ]
  },
  {
   "cell_type": "code",
   "execution_count": 33,
   "id": "optical-withdrawal",
   "metadata": {},
   "outputs": [
    {
     "name": "stderr",
     "output_type": "stream",
     "text": [
      "No handles with labels found to put in legend.\n"
     ]
    },
    {
     "data": {
      "text/plain": [
       "[<matplotlib.lines.Line2D at 0x16a1b1e1e48>]"
      ]
     },
     "execution_count": 33,
     "metadata": {},
     "output_type": "execute_result"
    },
    {
     "data": {
      "image/png": "[encoded data removed]",
      "text/plain": [
       "<Figure size 648x360 with 1 Axes>"
      ]
     },
     "metadata": {
      "needs_background": "light"
     },
     "output_type": "display_data"
    }
   ],
   "source": [
    "w_0 = model.intercept_[0]\n",
    "w_1 = model.coef_[0,0]\n",
    "\n",
    "def sigmoid(x):\n",
    "    return 1 / (1+np.exp(-(w_1*x+w_0)))\n",
    "\n",
    "x_range = np.linspace(-1, 500, 3000)\n",
    "\n",
    "plt.figure(figsize=(9,5))\n",
    "plt.legend(loc=2)\n",
    "\n",
    "plt.plot(data1,np.zeros(len(data1)), 'o', color=\"b\")\n",
    "plt.plot(data1, model.predict_proba(data1), 'o', color=\"r\")\n",
    "plt.plot(x_range, sigmoid(x_range), '-', color=\"g\")"
   ]
  },
  {
   "cell_type": "markdown",
   "id": "variable-domestic",
   "metadata": {},
   "source": [
    "2変数から生死を判別"
   ]
  },
  {
   "cell_type": "code",
   "execution_count": 34,
   "id": "rubber-talent",
   "metadata": {},
   "outputs": [
    {
     "data": {
      "text/html": [
       "<div>\n",
       "<style scoped>\n",
       "    .dataframe tbody tr th:only-of-type {\n",
       "        vertical-align: middle;\n",
       "    }\n",
       "\n",
       "    .dataframe tbody tr th {\n",
       "        vertical-align: top;\n",
       "    }\n",
       "\n",
       "    .dataframe thead th {\n",
       "        text-align: right;\n",
       "    }\n",
       "</style>\n",
       "<table border=\"1\" class=\"dataframe\">\n",
       "  <thead>\n",
       "    <tr style=\"text-align: right;\">\n",
       "      <th></th>\n",
       "      <th>Survived</th>\n",
       "      <th>Pclass</th>\n",
       "      <th>Sex</th>\n",
       "      <th>Age</th>\n",
       "      <th>SibSp</th>\n",
       "      <th>Parch</th>\n",
       "      <th>Fare</th>\n",
       "      <th>Embarked</th>\n",
       "      <th>AgeSex</th>\n",
       "      <th>AgeFill</th>\n",
       "      <th>Gender</th>\n",
       "    </tr>\n",
       "  </thead>\n",
       "  <tbody>\n",
       "    <tr>\n",
       "      <th>0</th>\n",
       "      <td>0</td>\n",
       "      <td>3</td>\n",
       "      <td>male</td>\n",
       "      <td>22.0</td>\n",
       "      <td>1</td>\n",
       "      <td>0</td>\n",
       "      <td>7.2500</td>\n",
       "      <td>S</td>\n",
       "      <td>30.726645</td>\n",
       "      <td>22.0</td>\n",
       "      <td>1</td>\n",
       "    </tr>\n",
       "    <tr>\n",
       "      <th>1</th>\n",
       "      <td>1</td>\n",
       "      <td>1</td>\n",
       "      <td>female</td>\n",
       "      <td>38.0</td>\n",
       "      <td>1</td>\n",
       "      <td>0</td>\n",
       "      <td>71.2833</td>\n",
       "      <td>C</td>\n",
       "      <td>27.915709</td>\n",
       "      <td>38.0</td>\n",
       "      <td>0</td>\n",
       "    </tr>\n",
       "    <tr>\n",
       "      <th>2</th>\n",
       "      <td>1</td>\n",
       "      <td>3</td>\n",
       "      <td>female</td>\n",
       "      <td>26.0</td>\n",
       "      <td>0</td>\n",
       "      <td>0</td>\n",
       "      <td>7.9250</td>\n",
       "      <td>S</td>\n",
       "      <td>27.915709</td>\n",
       "      <td>26.0</td>\n",
       "      <td>0</td>\n",
       "    </tr>\n",
       "  </tbody>\n",
       "</table>\n",
       "</div>"
      ],
      "text/plain": [
       "   Survived  Pclass     Sex   Age  SibSp  Parch     Fare Embarked     AgeSex  \\\n",
       "0         0       3    male  22.0      1      0   7.2500        S  30.726645   \n",
       "1         1       1  female  38.0      1      0  71.2833        C  27.915709   \n",
       "2         1       3  female  26.0      0      0   7.9250        S  27.915709   \n",
       "\n",
       "   AgeFill  Gender  \n",
       "0     22.0       1  \n",
       "1     38.0       0  \n",
       "2     26.0       0  "
      ]
     },
     "execution_count": 34,
     "metadata": {},
     "output_type": "execute_result"
    }
   ],
   "source": [
    "#性別の2値化\n",
    "titanic_df['Gender'] = titanic_df['Sex'].map({'female': 0, 'male': 1}).astype(int)\n",
    "titanic_df.head(3)"
   ]
  },
  {
   "cell_type": "code",
   "execution_count": 48,
   "id": "extended-malpractice",
   "metadata": {},
   "outputs": [
    {
     "data": {
      "text/plain": [
       "<matplotlib.legend.Legend at 0x16a1b5eb2c8>"
      ]
     },
     "execution_count": 48,
     "metadata": {},
     "output_type": "execute_result"
    },
    {
     "data": {
      "image/png": "[encoded data removed]",
      "text/plain": [
       "<Figure size 432x288 with 1 Axes>"
      ]
     },
     "metadata": {
      "needs_background": "light"
     },
     "output_type": "display_data"
    }
   ],
   "source": [
    "np.random.seed = 0\n",
    "\n",
    "xmin, xmax = -5, 85\n",
    "ymin, ymax = -0.5, 1.5\n",
    "\n",
    "index_survived = titanic_df[titanic_df[\"Survived\"]==0].index\n",
    "index_notsurvived = titanic_df[titanic_df[\"Survived\"]==1].index\n",
    "\n",
    "from matplotlib.colors import ListedColormap\n",
    "fig, ax = plt.subplots()\n",
    "# cm = plt.cm.RdBu#カラーマップ\n",
    "#cm_bright = ListedColormap(['#FF0000', '#0000FF'])\n",
    "sc = ax.scatter(titanic_df.loc[index_survived, 'AgeFill'],\n",
    "                titanic_df.loc[index_survived, 'Gender']+(np.random.rand(len(index_survived))-0.5)*0.3,\n",
    "                color='r', label='Not Survived', alpha=0.3)\n",
    "sc = ax.scatter(titanic_df.loc[index_notsurvived, 'AgeFill'],\n",
    "                titanic_df.loc[index_notsurvived, 'Gender']+(np.random.rand(len(index_notsurvived))-0.5)*0.3,\n",
    "                color='b', label='Survived', alpha=0.3)\n",
    "ax.set_xlabel('AgeFill')\n",
    "ax.set_ylabel('Gender')\n",
    "ax.set_xlim(xmin, xmax)\n",
    "ax.set_ylim(ymin, ymax)\n",
    "ax.legend(bbox_to_anchor=(1.4, 1.03)) #凡例の位置"
   ]
  },
  {
   "cell_type": "code",
   "execution_count": 42,
   "id": "wrapped-brunswick",
   "metadata": {},
   "outputs": [
    {
     "data": {
      "text/plain": [
       "array([[22.        ,  1.        ],\n",
       "       [38.        ,  0.        ],\n",
       "       [26.        ,  0.        ],\n",
       "       ...,\n",
       "       [27.91570881,  0.        ],\n",
       "       [26.        ,  1.        ],\n",
       "       [32.        ,  1.        ]])"
      ]
     },
     "execution_count": 42,
     "metadata": {},
     "output_type": "execute_result"
    }
   ],
   "source": [
    "data2 = titanic_df.loc[:, [\"AgeFill\", \"Gender\"]].values\n",
    "data2"
   ]
  },
  {
   "cell_type": "code",
   "execution_count": 40,
   "id": "governmental-trash",
   "metadata": {},
   "outputs": [],
   "source": [
    "label2 =  titanic_df.loc[:,[\"Survived\"]].values\n",
    "model2 = LogisticRegression()"
   ]
  },
  {
   "cell_type": "code",
   "execution_count": 41,
   "id": "worldwide-paradise",
   "metadata": {},
   "outputs": [
    {
     "name": "stderr",
     "output_type": "stream",
     "text": [
      "c:\\python\\python37\\lib\\site-packages\\sklearn\\utils\\validation.py:72: DataConversionWarning: A column-vector y was passed when a 1d array was expected. Please change the shape of y to (n_samples, ), for example using ravel().\n",
      "  return f(**kwargs)\n"
     ]
    },
    {
     "data": {
      "text/plain": [
       "LogisticRegression()"
      ]
     },
     "execution_count": 41,
     "metadata": {},
     "output_type": "execute_result"
    }
   ],
   "source": [
    "model2.fit(data2, label2)"
   ]
  },
  {
   "cell_type": "code",
   "execution_count": 43,
   "id": "forbidden-click",
   "metadata": {},
   "outputs": [
    {
     "data": {
      "text/plain": [
       "array([0], dtype=int64)"
      ]
     },
     "execution_count": 43,
     "metadata": {},
     "output_type": "execute_result"
    }
   ],
   "source": [
    "model2.predict([[10,1]])"
   ]
  },
  {
   "cell_type": "code",
   "execution_count": 44,
   "id": "indie-coach",
   "metadata": {},
   "outputs": [
    {
     "data": {
      "text/plain": [
       "array([[0.78793634, 0.21206366]])"
      ]
     },
     "execution_count": 44,
     "metadata": {},
     "output_type": "execute_result"
    }
   ],
   "source": [
    "model2.predict_proba([[10,1]])"
   ]
  },
  {
   "cell_type": "code",
   "execution_count": 49,
   "id": "opposite-start",
   "metadata": {},
   "outputs": [
    {
     "data": {
      "text/plain": [
       "[<matplotlib.lines.Line2D at 0x16a1b689ec8>]"
      ]
     },
     "execution_count": 49,
     "metadata": {},
     "output_type": "execute_result"
    },
    {
     "data": {
      "image/png": "[encoded data removed]",
      "text/plain": [
       "<Figure size 432x288 with 1 Axes>"
      ]
     },
     "metadata": {
      "needs_background": "light"
     },
     "output_type": "display_data"
    }
   ],
   "source": [
    "h = 0.02\n",
    "xmin, xmax = -5, 85\n",
    "ymin, ymax = -0.5, 1.5\n",
    "# np.meshgrid 配列の要素から格子列を生成する\n",
    "# xx, yy = np.meshgrid(np.arange(xmin, xmax, h), np.arange(ymin, ymax, h))\n",
    "# Z = model2.predict_proba(np.c_[xx.ravel(), yy.ravel()])[:, 1]\n",
    "# Z = Z.reshape(xx.shape)\n",
    "\n",
    "fig, ax = plt.subplots()\n",
    "# levels = np.linspace(0, 1.0)\n",
    "# cm = plt.cm.RdBu\n",
    "sc = ax.scatter(titanic_df.loc[index_survived, 'AgeFill'],\n",
    "                titanic_df.loc[index_survived, 'Gender']+(np.random.rand(len(index_survived))-0.5)*0.3,\n",
    "                color='r', label='Not Survived', alpha=0.3)\n",
    "sc = ax.scatter(titanic_df.loc[index_notsurvived, 'AgeFill'],\n",
    "                titanic_df.loc[index_notsurvived, 'Gender']+(np.random.rand(len(index_notsurvived))-0.5)*0.3,\n",
    "                color='b', label='Survived', alpha=0.3)\n",
    "\n",
    "ax.set_xlabel('AgeFill')\n",
    "ax.set_ylabel('Gender')\n",
    "ax.set_xlim(xmin, xmax)\n",
    "ax.set_ylim(ymin, ymax)\n",
    "\n",
    "x1 = xmin\n",
    "x2 = xmax\n",
    "y1 = -1*(model2.intercept_[0]+model2.coef_[0][0]*xmin)/model2.coef_[0][1]\n",
    "y2 = -1*(model2.intercept_[0]+model2.coef_[0][0]*xmax)/model2.coef_[0][1]\n",
    "ax.plot([x1, x2] ,[y1, y2], 'k--')"
   ]
  },
  {
   "cell_type": "markdown",
   "id": "canadian-receipt",
   "metadata": {},
   "source": [
    "混同行列とクロスバリデーション"
   ]
  },
  {
   "cell_type": "code",
   "execution_count": 50,
   "id": "ancient-custom",
   "metadata": {},
   "outputs": [
    {
     "data": {
      "text/plain": [
       "(712, 1)"
      ]
     },
     "execution_count": 50,
     "metadata": {},
     "output_type": "execute_result"
    }
   ],
   "source": [
    "from sklearn.model_selection import train_test_split\n",
    "traindata1, testdata1, trainlabel1, testlabel1 = train_test_split(data1, label1, test_size=0.2)\n",
    "traindata1.shape"
   ]
  },
  {
   "cell_type": "code",
   "execution_count": 51,
   "id": "black-warrant",
   "metadata": {},
   "outputs": [
    {
     "data": {
      "text/plain": [
       "(712, 2)"
      ]
     },
     "execution_count": 51,
     "metadata": {},
     "output_type": "execute_result"
    }
   ],
   "source": [
    "traindata2, testdata2, trainlabel2, testlabel2 = train_test_split(data2, label2, test_size=0.2)\n",
    "traindata2.shape"
   ]
  },
  {
   "cell_type": "code",
   "execution_count": 52,
   "id": "funky-planner",
   "metadata": {},
   "outputs": [],
   "source": [
    "label =  titanic_df.loc[:,[\"Survived\"]].values"
   ]
  },
  {
   "cell_type": "code",
   "execution_count": 53,
   "id": "charitable-bumper",
   "metadata": {},
   "outputs": [
    {
     "name": "stderr",
     "output_type": "stream",
     "text": [
      "c:\\python\\python37\\lib\\site-packages\\sklearn\\utils\\validation.py:72: DataConversionWarning: A column-vector y was passed when a 1d array was expected. Please change the shape of y to (n_samples, ), for example using ravel().\n",
      "  return f(**kwargs)\n",
      "c:\\python\\python37\\lib\\site-packages\\sklearn\\utils\\validation.py:72: DataConversionWarning: A column-vector y was passed when a 1d array was expected. Please change the shape of y to (n_samples, ), for example using ravel().\n",
      "  return f(**kwargs)\n"
     ]
    }
   ],
   "source": [
    "eval_model1=LogisticRegression()\n",
    "eval_model2=LogisticRegression()\n",
    "predictor_eval1=eval_model1.fit(traindata1, trainlabel1).predict(testdata1)\n",
    "predictor_eval2=eval_model2.fit(traindata2, trainlabel2).predict(testdata2)"
   ]
  },
  {
   "cell_type": "code",
   "execution_count": 54,
   "id": "sexual-rough",
   "metadata": {},
   "outputs": [
    {
     "name": "stdout",
     "output_type": "stream",
     "text": [
      "0.6699438202247191\n",
      "0.6480446927374302\n"
     ]
    }
   ],
   "source": [
    "# モデル1のスコア\n",
    "print(eval_model1.score(traindata1, trainlabel1))\n",
    "print(eval_model1.score(testdata1,testlabel1))"
   ]
  },
  {
   "cell_type": "code",
   "execution_count": 55,
   "id": "genuine-terrorism",
   "metadata": {},
   "outputs": [
    {
     "name": "stdout",
     "output_type": "stream",
     "text": [
      "0.7837078651685393\n",
      "0.7988826815642458\n"
     ]
    }
   ],
   "source": [
    "# モデル2のスコア\n",
    "print(eval_model2.score(traindata2, trainlabel2))\n",
    "print(eval_model2.score(testdata2,testlabel2))"
   ]
  },
  {
   "cell_type": "code",
   "execution_count": 56,
   "id": "declared-safety",
   "metadata": {},
   "outputs": [
    {
     "name": "stdout",
     "output_type": "stream",
     "text": [
      "              precision    recall  f1-score   support\n",
      "\n",
      "           0       0.64      0.94      0.76       107\n",
      "           1       0.71      0.21      0.32        72\n",
      "\n",
      "    accuracy                           0.65       179\n",
      "   macro avg       0.68      0.58      0.54       179\n",
      "weighted avg       0.67      0.65      0.59       179\n",
      "\n",
      "              precision    recall  f1-score   support\n",
      "\n",
      "           0       0.81      0.87      0.83       105\n",
      "           1       0.79      0.70      0.74        74\n",
      "\n",
      "    accuracy                           0.80       179\n",
      "   macro avg       0.80      0.78      0.79       179\n",
      "weighted avg       0.80      0.80      0.80       179\n",
      "\n"
     ]
    }
   ],
   "source": [
    "from sklearn import metrics\n",
    "# 適合率,再現率,F1スコア,正解率,マクロ平均，マイクロ平均を算出してくれる\n",
    "print(metrics.classification_report(testlabel1, predictor_eval1))\n",
    "print(metrics.classification_report(testlabel2, predictor_eval2))"
   ]
  },
  {
   "cell_type": "code",
   "execution_count": 57,
   "id": "british-surveillance",
   "metadata": {},
   "outputs": [
    {
     "name": "stdout",
     "output_type": "stream",
     "text": [
      "[[101   6]\n",
      " [ 57  15]]\n",
      "[[91 14]\n",
      " [22 52]]\n"
     ]
    }
   ],
   "source": [
    "from sklearn.metrics import confusion_matrix\n",
    "# TN FP  真陰性 偽陽性\n",
    "# FN TP  偽陰性 真陽性\n",
    "confusion_matrix1=confusion_matrix(testlabel1, predictor_eval1)\n",
    "confusion_matrix2=confusion_matrix(testlabel2, predictor_eval2)\n",
    "print(confusion_matrix1)\n",
    "print(confusion_matrix2)"
   ]
  },
  {
   "cell_type": "code",
   "execution_count": 58,
   "id": "occasional-jesus",
   "metadata": {},
   "outputs": [
    {
     "data": {
      "text/plain": [
       "<matplotlib.axes._subplots.AxesSubplot at 0x16a1b6cea88>"
      ]
     },
     "execution_count": 58,
     "metadata": {},
     "output_type": "execute_result"
    },
    {
     "data": {
      "image/png": "[encoded data removed]",
      "text/plain": [
       "<Figure size 504x504 with 2 Axes>"
      ]
     },
     "metadata": {
      "needs_background": "light"
     },
     "output_type": "display_data"
    }
   ],
   "source": [
    "# モデル1の混合行列可視化\n",
    "fig = plt.figure(figsize = (7,7))\n",
    "sns.heatmap(\n",
    "    confusion_matrix1,\n",
    "    vmin=None,\n",
    "    vmax=None,\n",
    "    cmap=\"Blues\",\n",
    "    center=None,\n",
    "    robust=False,\n",
    "    annot=True, fmt='.2g',\n",
    "    annot_kws=None,\n",
    "    linewidths=0,\n",
    "    linecolor='white',\n",
    "    cbar=True,\n",
    "    cbar_kws=None,\n",
    "    cbar_ax=None,\n",
    "    square=True, ax=None, \n",
    "    mask=None)"
   ]
  },
  {
   "cell_type": "code",
   "execution_count": 59,
   "id": "right-identity",
   "metadata": {},
   "outputs": [
    {
     "data": {
      "text/plain": [
       "<matplotlib.axes._subplots.AxesSubplot at 0x16a1bc7f6c8>"
      ]
     },
     "execution_count": 59,
     "metadata": {},
     "output_type": "execute_result"
    },
    {
     "data": {
      "image/png": "[encoded data removed]",
      "text/plain": [
       "<Figure size 504x504 with 2 Axes>"
      ]
     },
     "metadata": {
      "needs_background": "light"
     },
     "output_type": "display_data"
    }
   ],
   "source": [
    "fig = plt.figure(figsize = (7,7))\n",
    "sns.heatmap(\n",
    "    confusion_matrix2,\n",
    "    vmin=None,\n",
    "    vmax=None,\n",
    "    cmap=\"Blues\",\n",
    "    center=None,\n",
    "    robust=False,\n",
    "    annot=True, fmt='.2g',\n",
    "    annot_kws=None,\n",
    "    linewidths=0,\n",
    "    linecolor='white',\n",
    "    cbar=True,\n",
    "    cbar_kws=None,\n",
    "    cbar_ax=None,\n",
    "    square=True, ax=None, \n",
    "    mask=None)"
   ]
  },
  {
   "cell_type": "code",
   "execution_count": 62,
   "id": "prescription-canada",
   "metadata": {},
   "outputs": [
    {
     "name": "stderr",
     "output_type": "stream",
     "text": [
      "c:\\python\\python37\\lib\\site-packages\\seaborn\\axisgrid.py:1152: UserWarning: The `size` parameter has been renamed to `height`; please update your code.\n",
      "  warnings.warn(UserWarning(msg))\n"
     ]
    },
    {
     "data": {
      "image/png": "[encoded data removed]",
      "text/plain": [
       "<Figure size 720x360 with 4 Axes>"
      ]
     },
     "metadata": {},
     "output_type": "display_data"
    }
   ],
   "source": [
    "\n",
    "import seaborn as sns\n",
    "sns.set(style=\"whitegrid\")\n",
    "\n",
    "# seabornサンプル用のデータセット\n",
    "titanic = sns.load_dataset(\"titanic\")\n",
    "# 4つのグリッドグラフ表示\n",
    "g = sns.PairGrid(titanic, y_vars=\"survived\",\n",
    "                 x_vars=[\"class\", \"sex\", \"who\", \"alone\"],\n",
    "                 size=5, aspect=.5)\n",
    "\n",
    "# Draw a seaborn pointplot onto each Axes\n",
    "g.map(sns.pointplot, color=\"b\")\n",
    "g.set(ylim=(0, 1)) #Y軸上下限\n",
    "sns.despine(fig=g.fig, left=True) # 左軸除去"
   ]
  },
  {
   "cell_type": "code",
   "execution_count": 66,
   "id": "egyptian-drilling",
   "metadata": {},
   "outputs": [
    {
     "data": {
      "text/plain": [
       "<seaborn.axisgrid.FacetGrid at 0x16a1ec73c48>"
      ]
     },
     "execution_count": 66,
     "metadata": {},
     "output_type": "execute_result"
    },
    {
     "data": {
      "image/png": "[encoded data removed]",
      "text/plain": [
       "<Figure size 720x360 with 2 Axes>"
      ]
     },
     "metadata": {},
     "output_type": "display_data"
    }
   ],
   "source": [
    "import seaborn as sns\n",
    "sns.set(style=\"darkgrid\")\n",
    "\n",
    "pal = dict(male=\"#6495ED\", female=\"#F08080\")\n",
    "\n",
    "# 回帰モデルの可視化とグリッドによる表示\n",
    "g = sns.lmplot(x=\"age\", y=\"survived\", col=\"sex\", hue=\"sex\", data=titanic,\n",
    "               palette=pal, y_jitter=.02, logistic=True)\n",
    "g.set(xlim=(0, 80), ylim=(-.05, 1.05))\n",
    "# 男性は若いほど生き残り、女性は高齢ほど生き残る傾向？"
   ]
  },
  {
   "cell_type": "code",
   "execution_count": null,
   "id": "sapphire-river",
   "metadata": {},
   "outputs": [],
   "source": []
  }
 ],
 "metadata": {
  "kernelspec": {
   "display_name": "Python 3",
   "language": "python",
   "name": "python3"
  },
  "language_info": {
   "codemirror_mode": {
    "name": "ipython",
    "version": 3
   },
   "file_extension": ".py",
   "mimetype": "text/x-python",
   "name": "python",
   "nbconvert_exporter": "python",
   "pygments_lexer": "ipython3",
   "version": "3.7.7"
  }
 },
 "nbformat": 4,
 "nbformat_minor": 5
}
